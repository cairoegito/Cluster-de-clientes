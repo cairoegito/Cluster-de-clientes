{
  "nbformat": 4,
  "nbformat_minor": 0,
  "metadata": {
    "colab": {
      "provenance": [],
      "mount_file_id": "1I9rnp2F17Mx5gMBh9CrfheKCJd9DDufs",
      "authorship_tag": "ABX9TyNZ8ASd5/edS0W+O4fMAf/P",
      "include_colab_link": true
    },
    "kernelspec": {
      "name": "python3",
      "display_name": "Python 3"
    },
    "language_info": {
      "name": "python"
    }
  },
  "cells": [
    {
      "cell_type": "markdown",
      "metadata": {
        "id": "view-in-github",
        "colab_type": "text"
      },
      "source": [
        "<a href=\"https://colab.research.google.com/github/cairoegito/Cluster-de-clientes/blob/main/Cluster_de_clientes.ipynb\" target=\"_parent\"><img src=\"https://colab.research.google.com/assets/colab-badge.svg\" alt=\"Open In Colab\"/></a>"
      ]
    },
    {
      "cell_type": "markdown",
      "source": [
        "## **1- OBJETIVO DE NEGÓCIO**\n",
        "\n",
        "Agrupar os clientes com  certas semelhanças em seus comportamentos para que a empresa possa de maneira maus concreta e pontual entender o mecanismo de vendas e como aumentar os lucros \n",
        "\n",
        "**LEGENDAS DO NOSSO DATASET**\n",
        "\n",
        "ID\n",
        "numerical\n",
        "unique identifier of each customer\n",
        "\n",
        "Sex\n",
        "categrical\n",
        "0: male, 1: female\n",
        "\n",
        "Marital status\n",
        "categorical\n",
        "0: single, 1: non-single (divorced, separated, married, widowed)\n",
        "Age\n",
        "\n",
        "numerical\n",
        "age in years \n",
        "\n",
        "Education\n",
        "categorical\n",
        "0: other/unknown, 1: high school, 2: university, 3: graduate school\n",
        "\n",
        "Income\n",
        "numerical\n",
        "annual income in USD\n",
        "\n",
        "Occupation\n",
        "categorical\n",
        "0: unemployed/unskilled, 1: skilled employee/official, 2: management/self-employed/highly qualified employed/officer\n",
        "\n",
        "Settlement size\n",
        "categorical\n",
        "0: small city, 1: mid-sized city, 2: big city"
      ],
      "metadata": {
        "id": "Mvb5XLhoi237"
      }
    },
    {
      "cell_type": "markdown",
      "source": [
        "## **INSTALANDO MÓDULOS**"
      ],
      "metadata": {
        "id": "ft-TKXuBH-Gt"
      }
    },
    {
      "cell_type": "code",
      "source": [
        "!pip uninstall umap\n",
        "!pip install umap-learn"
      ],
      "metadata": {
        "colab": {
          "base_uri": "https://localhost:8080/"
        },
        "id": "SpUdCQfE_gDk",
        "outputId": "dc2639fd-48d5-40f8-dda6-c6588e098088"
      },
      "execution_count": 92,
      "outputs": [
        {
          "output_type": "stream",
          "name": "stdout",
          "text": [
            "Found existing installation: umap 0.1.1\n",
            "Uninstalling umap-0.1.1:\n",
            "  Would remove:\n",
            "    /usr/local/lib/python3.7/dist-packages/umap-0.1.1.dist-info/*\n",
            "    /usr/local/lib/python3.7/dist-packages/umap/*\n",
            "  Would not remove (might be manually added):\n",
            "    /usr/local/lib/python3.7/dist-packages/umap/aligned_umap.py\n",
            "    /usr/local/lib/python3.7/dist-packages/umap/distances.py\n",
            "    /usr/local/lib/python3.7/dist-packages/umap/layouts.py\n",
            "    /usr/local/lib/python3.7/dist-packages/umap/parametric_umap.py\n",
            "    /usr/local/lib/python3.7/dist-packages/umap/plot.py\n",
            "    /usr/local/lib/python3.7/dist-packages/umap/sparse.py\n",
            "    /usr/local/lib/python3.7/dist-packages/umap/spectral.py\n",
            "    /usr/local/lib/python3.7/dist-packages/umap/umap_.py\n",
            "    /usr/local/lib/python3.7/dist-packages/umap/utils.py\n",
            "    /usr/local/lib/python3.7/dist-packages/umap/validation.py\n",
            "Proceed (y/n)? \n",
            "Your response ('') was not one of the expected responses: y, n\n",
            "Proceed (y/n)? \n",
            "Your response ('') was not one of the expected responses: y, n\n",
            "Proceed (y/n)? yes\n",
            "Your response ('yes') was not one of the expected responses: y, n\n",
            "Proceed (y/n)? y\n",
            "  Successfully uninstalled umap-0.1.1\n",
            "Looking in indexes: https://pypi.org/simple, https://us-python.pkg.dev/colab-wheels/public/simple/\n",
            "Requirement already satisfied: umap-learn in /usr/local/lib/python3.7/dist-packages (0.5.3)\n",
            "Requirement already satisfied: scikit-learn>=0.22 in /usr/local/lib/python3.7/dist-packages (from umap-learn) (1.0.2)\n",
            "Requirement already satisfied: pynndescent>=0.5 in /usr/local/lib/python3.7/dist-packages (from umap-learn) (0.5.8)\n",
            "Requirement already satisfied: scipy>=1.0 in /usr/local/lib/python3.7/dist-packages (from umap-learn) (1.7.3)\n",
            "Requirement already satisfied: tqdm in /usr/local/lib/python3.7/dist-packages (from umap-learn) (4.64.1)\n",
            "Requirement already satisfied: numpy>=1.17 in /usr/local/lib/python3.7/dist-packages (from umap-learn) (1.21.6)\n",
            "Requirement already satisfied: numba>=0.49 in /usr/local/lib/python3.7/dist-packages (from umap-learn) (0.56.3)\n",
            "Requirement already satisfied: llvmlite<0.40,>=0.39.0dev0 in /usr/local/lib/python3.7/dist-packages (from numba>=0.49->umap-learn) (0.39.1)\n",
            "Requirement already satisfied: setuptools in /usr/local/lib/python3.7/dist-packages (from numba>=0.49->umap-learn) (57.4.0)\n",
            "Requirement already satisfied: importlib-metadata in /usr/local/lib/python3.7/dist-packages (from numba>=0.49->umap-learn) (4.13.0)\n",
            "Requirement already satisfied: joblib>=0.11 in /usr/local/lib/python3.7/dist-packages (from pynndescent>=0.5->umap-learn) (1.2.0)\n",
            "Requirement already satisfied: zipp>=0.5 in /usr/local/lib/python3.7/dist-packages (from importlib-metadata->numba>=0.49->umap-learn) (3.10.0)\n",
            "Requirement already satisfied: typing-extensions>=3.6.4 in /usr/local/lib/python3.7/dist-packages (from importlib-metadata->numba>=0.49->umap-learn) (4.1.1)\n",
            "Requirement already satisfied: threadpoolctl>=2.0.0 in /usr/local/lib/python3.7/dist-packages (from scikit-learn>=0.22->umap-learn) (3.1.0)\n"
          ]
        }
      ]
    },
    {
      "cell_type": "markdown",
      "source": [
        "## **IMPORTANDO BIBLIOTECAS**"
      ],
      "metadata": {
        "id": "phYQaBKS5fQB"
      }
    },
    {
      "cell_type": "code",
      "source": [
        "#Importando bibliotecas\n",
        "import pandas as pd\n",
        "import numpy as np\n",
        "import matplotlib.pyplot as plt\n",
        "import seaborn as sns\n",
        "import plotly.express as px\n",
        "import umap.umap_ as umap\n",
        "\n",
        "plt.rc(\"figure\", autolayout=True)\n",
        "plt.rc(\"axes\", labelweight=\"bold\", labelsize=\"large\", titleweight=\"bold\", titlesize=14, titlepad=10)\n",
        "\n",
        "import warnings\n",
        "from sklearn.preprocessing import MinMaxScaler\n",
        "from sklearn.cluster import KMeans\n",
        "from sklearn.cluster import MiniBatchKMeans\n",
        "from sklearn.decomposition import PCA\n",
        "from sklearn.metrics import silhouette_score\n",
        "\n",
        "sns.set_style(\"darkgrid\")\n",
        "%matplotlib inline\n",
        "\n",
        "plt.rc(\"figure\", autolayout=True)\n",
        "plt.rc(\"axes\", labelweight=\"bold\", labelsize=\"large\", titleweight=\"bold\", titlesize=14, titlepad=10)\n",
        "\n",
        "figure_size=(8, 6)\n",
        "\n",
        "warnings.simplefilter(action='ignore', category=FutureWarning)\n",
        "warnings.simplefilter(action='ignore', category=DeprecationWarning)\n"
      ],
      "metadata": {
        "id": "FulD9GSvjNkR"
      },
      "execution_count": 93,
      "outputs": []
    },
    {
      "cell_type": "markdown",
      "source": [
        "## 2 - **Observando dataset e tratamento dos dados**"
      ],
      "metadata": {
        "id": "fpoT-SS3kfwS"
      }
    },
    {
      "cell_type": "code",
      "source": [
        "#Importando dataset\n",
        "df = pd.read_csv(\"/content/drive/MyDrive/Cluster- clientes/segmentation data.csv\", sep=\",\")"
      ],
      "metadata": {
        "id": "vV7ijOKjkAON"
      },
      "execution_count": 10,
      "outputs": []
    },
    {
      "cell_type": "code",
      "source": [
        "#Observando primeiras informações\n",
        "df.head()"
      ],
      "metadata": {
        "colab": {
          "base_uri": "https://localhost:8080/",
          "height": 206
        },
        "id": "O1i88-TekGlK",
        "outputId": "ef570bfc-7456-4a03-eacf-b5c3aefc969d"
      },
      "execution_count": 11,
      "outputs": [
        {
          "output_type": "execute_result",
          "data": {
            "text/plain": [
              "          ID  Sex  Marital status  Age  Education  Income  Occupation  \\\n",
              "0  100000001    0               0   67          2  124670           1   \n",
              "1  100000002    1               1   22          1  150773           1   \n",
              "2  100000003    0               0   49          1   89210           0   \n",
              "3  100000004    0               0   45          1  171565           1   \n",
              "4  100000005    0               0   53          1  149031           1   \n",
              "\n",
              "   Settlement size  \n",
              "0                2  \n",
              "1                2  \n",
              "2                0  \n",
              "3                1  \n",
              "4                1  "
            ],
            "text/html": [
              "\n",
              "  <div id=\"df-563fe750-5fee-47bf-b86f-dd984b4d5f94\">\n",
              "    <div class=\"colab-df-container\">\n",
              "      <div>\n",
              "<style scoped>\n",
              "    .dataframe tbody tr th:only-of-type {\n",
              "        vertical-align: middle;\n",
              "    }\n",
              "\n",
              "    .dataframe tbody tr th {\n",
              "        vertical-align: top;\n",
              "    }\n",
              "\n",
              "    .dataframe thead th {\n",
              "        text-align: right;\n",
              "    }\n",
              "</style>\n",
              "<table border=\"1\" class=\"dataframe\">\n",
              "  <thead>\n",
              "    <tr style=\"text-align: right;\">\n",
              "      <th></th>\n",
              "      <th>ID</th>\n",
              "      <th>Sex</th>\n",
              "      <th>Marital status</th>\n",
              "      <th>Age</th>\n",
              "      <th>Education</th>\n",
              "      <th>Income</th>\n",
              "      <th>Occupation</th>\n",
              "      <th>Settlement size</th>\n",
              "    </tr>\n",
              "  </thead>\n",
              "  <tbody>\n",
              "    <tr>\n",
              "      <th>0</th>\n",
              "      <td>100000001</td>\n",
              "      <td>0</td>\n",
              "      <td>0</td>\n",
              "      <td>67</td>\n",
              "      <td>2</td>\n",
              "      <td>124670</td>\n",
              "      <td>1</td>\n",
              "      <td>2</td>\n",
              "    </tr>\n",
              "    <tr>\n",
              "      <th>1</th>\n",
              "      <td>100000002</td>\n",
              "      <td>1</td>\n",
              "      <td>1</td>\n",
              "      <td>22</td>\n",
              "      <td>1</td>\n",
              "      <td>150773</td>\n",
              "      <td>1</td>\n",
              "      <td>2</td>\n",
              "    </tr>\n",
              "    <tr>\n",
              "      <th>2</th>\n",
              "      <td>100000003</td>\n",
              "      <td>0</td>\n",
              "      <td>0</td>\n",
              "      <td>49</td>\n",
              "      <td>1</td>\n",
              "      <td>89210</td>\n",
              "      <td>0</td>\n",
              "      <td>0</td>\n",
              "    </tr>\n",
              "    <tr>\n",
              "      <th>3</th>\n",
              "      <td>100000004</td>\n",
              "      <td>0</td>\n",
              "      <td>0</td>\n",
              "      <td>45</td>\n",
              "      <td>1</td>\n",
              "      <td>171565</td>\n",
              "      <td>1</td>\n",
              "      <td>1</td>\n",
              "    </tr>\n",
              "    <tr>\n",
              "      <th>4</th>\n",
              "      <td>100000005</td>\n",
              "      <td>0</td>\n",
              "      <td>0</td>\n",
              "      <td>53</td>\n",
              "      <td>1</td>\n",
              "      <td>149031</td>\n",
              "      <td>1</td>\n",
              "      <td>1</td>\n",
              "    </tr>\n",
              "  </tbody>\n",
              "</table>\n",
              "</div>\n",
              "      <button class=\"colab-df-convert\" onclick=\"convertToInteractive('df-563fe750-5fee-47bf-b86f-dd984b4d5f94')\"\n",
              "              title=\"Convert this dataframe to an interactive table.\"\n",
              "              style=\"display:none;\">\n",
              "        \n",
              "  <svg xmlns=\"http://www.w3.org/2000/svg\" height=\"24px\"viewBox=\"0 0 24 24\"\n",
              "       width=\"24px\">\n",
              "    <path d=\"M0 0h24v24H0V0z\" fill=\"none\"/>\n",
              "    <path d=\"M18.56 5.44l.94 2.06.94-2.06 2.06-.94-2.06-.94-.94-2.06-.94 2.06-2.06.94zm-11 1L8.5 8.5l.94-2.06 2.06-.94-2.06-.94L8.5 2.5l-.94 2.06-2.06.94zm10 10l.94 2.06.94-2.06 2.06-.94-2.06-.94-.94-2.06-.94 2.06-2.06.94z\"/><path d=\"M17.41 7.96l-1.37-1.37c-.4-.4-.92-.59-1.43-.59-.52 0-1.04.2-1.43.59L10.3 9.45l-7.72 7.72c-.78.78-.78 2.05 0 2.83L4 21.41c.39.39.9.59 1.41.59.51 0 1.02-.2 1.41-.59l7.78-7.78 2.81-2.81c.8-.78.8-2.07 0-2.86zM5.41 20L4 18.59l7.72-7.72 1.47 1.35L5.41 20z\"/>\n",
              "  </svg>\n",
              "      </button>\n",
              "      \n",
              "  <style>\n",
              "    .colab-df-container {\n",
              "      display:flex;\n",
              "      flex-wrap:wrap;\n",
              "      gap: 12px;\n",
              "    }\n",
              "\n",
              "    .colab-df-convert {\n",
              "      background-color: #E8F0FE;\n",
              "      border: none;\n",
              "      border-radius: 50%;\n",
              "      cursor: pointer;\n",
              "      display: none;\n",
              "      fill: #1967D2;\n",
              "      height: 32px;\n",
              "      padding: 0 0 0 0;\n",
              "      width: 32px;\n",
              "    }\n",
              "\n",
              "    .colab-df-convert:hover {\n",
              "      background-color: #E2EBFA;\n",
              "      box-shadow: 0px 1px 2px rgba(60, 64, 67, 0.3), 0px 1px 3px 1px rgba(60, 64, 67, 0.15);\n",
              "      fill: #174EA6;\n",
              "    }\n",
              "\n",
              "    [theme=dark] .colab-df-convert {\n",
              "      background-color: #3B4455;\n",
              "      fill: #D2E3FC;\n",
              "    }\n",
              "\n",
              "    [theme=dark] .colab-df-convert:hover {\n",
              "      background-color: #434B5C;\n",
              "      box-shadow: 0px 1px 3px 1px rgba(0, 0, 0, 0.15);\n",
              "      filter: drop-shadow(0px 1px 2px rgba(0, 0, 0, 0.3));\n",
              "      fill: #FFFFFF;\n",
              "    }\n",
              "  </style>\n",
              "\n",
              "      <script>\n",
              "        const buttonEl =\n",
              "          document.querySelector('#df-563fe750-5fee-47bf-b86f-dd984b4d5f94 button.colab-df-convert');\n",
              "        buttonEl.style.display =\n",
              "          google.colab.kernel.accessAllowed ? 'block' : 'none';\n",
              "\n",
              "        async function convertToInteractive(key) {\n",
              "          const element = document.querySelector('#df-563fe750-5fee-47bf-b86f-dd984b4d5f94');\n",
              "          const dataTable =\n",
              "            await google.colab.kernel.invokeFunction('convertToInteractive',\n",
              "                                                     [key], {});\n",
              "          if (!dataTable) return;\n",
              "\n",
              "          const docLinkHtml = 'Like what you see? Visit the ' +\n",
              "            '<a target=\"_blank\" href=https://colab.research.google.com/notebooks/data_table.ipynb>data table notebook</a>'\n",
              "            + ' to learn more about interactive tables.';\n",
              "          element.innerHTML = '';\n",
              "          dataTable['output_type'] = 'display_data';\n",
              "          await google.colab.output.renderOutput(dataTable, element);\n",
              "          const docLink = document.createElement('div');\n",
              "          docLink.innerHTML = docLinkHtml;\n",
              "          element.appendChild(docLink);\n",
              "        }\n",
              "      </script>\n",
              "    </div>\n",
              "  </div>\n",
              "  "
            ]
          },
          "metadata": {},
          "execution_count": 11
        }
      ]
    },
    {
      "cell_type": "code",
      "source": [
        "# Observando se possui valores missings/faltantes\n",
        "df.isnull().sum()"
      ],
      "metadata": {
        "colab": {
          "base_uri": "https://localhost:8080/"
        },
        "id": "WNRp3E1ElZjE",
        "outputId": "c8521a15-3e27-431d-f100-759b59108ee7"
      },
      "execution_count": 12,
      "outputs": [
        {
          "output_type": "execute_result",
          "data": {
            "text/plain": [
              "ID                 0\n",
              "Sex                0\n",
              "Marital status     0\n",
              "Age                0\n",
              "Education          0\n",
              "Income             0\n",
              "Occupation         0\n",
              "Settlement size    0\n",
              "dtype: int64"
            ]
          },
          "metadata": {},
          "execution_count": 12
        }
      ]
    },
    {
      "cell_type": "code",
      "source": [
        "#Observando nossas variáveis estatisticamente\n",
        "df.describe()"
      ],
      "metadata": {
        "colab": {
          "base_uri": "https://localhost:8080/",
          "height": 300
        },
        "id": "fneTG2mbmd1x",
        "outputId": "d997e768-7afc-4ddb-e1be-bf3c71f9bacc"
      },
      "execution_count": 13,
      "outputs": [
        {
          "output_type": "execute_result",
          "data": {
            "text/plain": [
              "                   ID        Sex  Marital status        Age  Education  \\\n",
              "count      2000.00000 2000.00000      2000.00000 2000.00000 2000.00000   \n",
              "mean  100001000.50000    0.45700         0.49650   35.90900    1.03800   \n",
              "std         577.49459    0.49827         0.50011   11.71940    0.59978   \n",
              "min   100000001.00000    0.00000         0.00000   18.00000    0.00000   \n",
              "25%   100000500.75000    0.00000         0.00000   27.00000    1.00000   \n",
              "50%   100001000.50000    0.00000         0.00000   33.00000    1.00000   \n",
              "75%   100001500.25000    1.00000         1.00000   42.00000    1.00000   \n",
              "max   100002000.00000    1.00000         1.00000   76.00000    3.00000   \n",
              "\n",
              "            Income  Occupation  Settlement size  \n",
              "count   2000.00000  2000.00000       2000.00000  \n",
              "mean  120954.41900     0.81050          0.73900  \n",
              "std    38108.82468     0.63859          0.81253  \n",
              "min    35832.00000     0.00000          0.00000  \n",
              "25%    97663.25000     0.00000          0.00000  \n",
              "50%   115548.50000     1.00000          1.00000  \n",
              "75%   138072.25000     1.00000          1.00000  \n",
              "max   309364.00000     2.00000          2.00000  "
            ],
            "text/html": [
              "\n",
              "  <div id=\"df-5802cb25-571b-4712-92d9-105797987404\">\n",
              "    <div class=\"colab-df-container\">\n",
              "      <div>\n",
              "<style scoped>\n",
              "    .dataframe tbody tr th:only-of-type {\n",
              "        vertical-align: middle;\n",
              "    }\n",
              "\n",
              "    .dataframe tbody tr th {\n",
              "        vertical-align: top;\n",
              "    }\n",
              "\n",
              "    .dataframe thead th {\n",
              "        text-align: right;\n",
              "    }\n",
              "</style>\n",
              "<table border=\"1\" class=\"dataframe\">\n",
              "  <thead>\n",
              "    <tr style=\"text-align: right;\">\n",
              "      <th></th>\n",
              "      <th>ID</th>\n",
              "      <th>Sex</th>\n",
              "      <th>Marital status</th>\n",
              "      <th>Age</th>\n",
              "      <th>Education</th>\n",
              "      <th>Income</th>\n",
              "      <th>Occupation</th>\n",
              "      <th>Settlement size</th>\n",
              "    </tr>\n",
              "  </thead>\n",
              "  <tbody>\n",
              "    <tr>\n",
              "      <th>count</th>\n",
              "      <td>2000.00000</td>\n",
              "      <td>2000.00000</td>\n",
              "      <td>2000.00000</td>\n",
              "      <td>2000.00000</td>\n",
              "      <td>2000.00000</td>\n",
              "      <td>2000.00000</td>\n",
              "      <td>2000.00000</td>\n",
              "      <td>2000.00000</td>\n",
              "    </tr>\n",
              "    <tr>\n",
              "      <th>mean</th>\n",
              "      <td>100001000.50000</td>\n",
              "      <td>0.45700</td>\n",
              "      <td>0.49650</td>\n",
              "      <td>35.90900</td>\n",
              "      <td>1.03800</td>\n",
              "      <td>120954.41900</td>\n",
              "      <td>0.81050</td>\n",
              "      <td>0.73900</td>\n",
              "    </tr>\n",
              "    <tr>\n",
              "      <th>std</th>\n",
              "      <td>577.49459</td>\n",
              "      <td>0.49827</td>\n",
              "      <td>0.50011</td>\n",
              "      <td>11.71940</td>\n",
              "      <td>0.59978</td>\n",
              "      <td>38108.82468</td>\n",
              "      <td>0.63859</td>\n",
              "      <td>0.81253</td>\n",
              "    </tr>\n",
              "    <tr>\n",
              "      <th>min</th>\n",
              "      <td>100000001.00000</td>\n",
              "      <td>0.00000</td>\n",
              "      <td>0.00000</td>\n",
              "      <td>18.00000</td>\n",
              "      <td>0.00000</td>\n",
              "      <td>35832.00000</td>\n",
              "      <td>0.00000</td>\n",
              "      <td>0.00000</td>\n",
              "    </tr>\n",
              "    <tr>\n",
              "      <th>25%</th>\n",
              "      <td>100000500.75000</td>\n",
              "      <td>0.00000</td>\n",
              "      <td>0.00000</td>\n",
              "      <td>27.00000</td>\n",
              "      <td>1.00000</td>\n",
              "      <td>97663.25000</td>\n",
              "      <td>0.00000</td>\n",
              "      <td>0.00000</td>\n",
              "    </tr>\n",
              "    <tr>\n",
              "      <th>50%</th>\n",
              "      <td>100001000.50000</td>\n",
              "      <td>0.00000</td>\n",
              "      <td>0.00000</td>\n",
              "      <td>33.00000</td>\n",
              "      <td>1.00000</td>\n",
              "      <td>115548.50000</td>\n",
              "      <td>1.00000</td>\n",
              "      <td>1.00000</td>\n",
              "    </tr>\n",
              "    <tr>\n",
              "      <th>75%</th>\n",
              "      <td>100001500.25000</td>\n",
              "      <td>1.00000</td>\n",
              "      <td>1.00000</td>\n",
              "      <td>42.00000</td>\n",
              "      <td>1.00000</td>\n",
              "      <td>138072.25000</td>\n",
              "      <td>1.00000</td>\n",
              "      <td>1.00000</td>\n",
              "    </tr>\n",
              "    <tr>\n",
              "      <th>max</th>\n",
              "      <td>100002000.00000</td>\n",
              "      <td>1.00000</td>\n",
              "      <td>1.00000</td>\n",
              "      <td>76.00000</td>\n",
              "      <td>3.00000</td>\n",
              "      <td>309364.00000</td>\n",
              "      <td>2.00000</td>\n",
              "      <td>2.00000</td>\n",
              "    </tr>\n",
              "  </tbody>\n",
              "</table>\n",
              "</div>\n",
              "      <button class=\"colab-df-convert\" onclick=\"convertToInteractive('df-5802cb25-571b-4712-92d9-105797987404')\"\n",
              "              title=\"Convert this dataframe to an interactive table.\"\n",
              "              style=\"display:none;\">\n",
              "        \n",
              "  <svg xmlns=\"http://www.w3.org/2000/svg\" height=\"24px\"viewBox=\"0 0 24 24\"\n",
              "       width=\"24px\">\n",
              "    <path d=\"M0 0h24v24H0V0z\" fill=\"none\"/>\n",
              "    <path d=\"M18.56 5.44l.94 2.06.94-2.06 2.06-.94-2.06-.94-.94-2.06-.94 2.06-2.06.94zm-11 1L8.5 8.5l.94-2.06 2.06-.94-2.06-.94L8.5 2.5l-.94 2.06-2.06.94zm10 10l.94 2.06.94-2.06 2.06-.94-2.06-.94-.94-2.06-.94 2.06-2.06.94z\"/><path d=\"M17.41 7.96l-1.37-1.37c-.4-.4-.92-.59-1.43-.59-.52 0-1.04.2-1.43.59L10.3 9.45l-7.72 7.72c-.78.78-.78 2.05 0 2.83L4 21.41c.39.39.9.59 1.41.59.51 0 1.02-.2 1.41-.59l7.78-7.78 2.81-2.81c.8-.78.8-2.07 0-2.86zM5.41 20L4 18.59l7.72-7.72 1.47 1.35L5.41 20z\"/>\n",
              "  </svg>\n",
              "      </button>\n",
              "      \n",
              "  <style>\n",
              "    .colab-df-container {\n",
              "      display:flex;\n",
              "      flex-wrap:wrap;\n",
              "      gap: 12px;\n",
              "    }\n",
              "\n",
              "    .colab-df-convert {\n",
              "      background-color: #E8F0FE;\n",
              "      border: none;\n",
              "      border-radius: 50%;\n",
              "      cursor: pointer;\n",
              "      display: none;\n",
              "      fill: #1967D2;\n",
              "      height: 32px;\n",
              "      padding: 0 0 0 0;\n",
              "      width: 32px;\n",
              "    }\n",
              "\n",
              "    .colab-df-convert:hover {\n",
              "      background-color: #E2EBFA;\n",
              "      box-shadow: 0px 1px 2px rgba(60, 64, 67, 0.3), 0px 1px 3px 1px rgba(60, 64, 67, 0.15);\n",
              "      fill: #174EA6;\n",
              "    }\n",
              "\n",
              "    [theme=dark] .colab-df-convert {\n",
              "      background-color: #3B4455;\n",
              "      fill: #D2E3FC;\n",
              "    }\n",
              "\n",
              "    [theme=dark] .colab-df-convert:hover {\n",
              "      background-color: #434B5C;\n",
              "      box-shadow: 0px 1px 3px 1px rgba(0, 0, 0, 0.15);\n",
              "      filter: drop-shadow(0px 1px 2px rgba(0, 0, 0, 0.3));\n",
              "      fill: #FFFFFF;\n",
              "    }\n",
              "  </style>\n",
              "\n",
              "      <script>\n",
              "        const buttonEl =\n",
              "          document.querySelector('#df-5802cb25-571b-4712-92d9-105797987404 button.colab-df-convert');\n",
              "        buttonEl.style.display =\n",
              "          google.colab.kernel.accessAllowed ? 'block' : 'none';\n",
              "\n",
              "        async function convertToInteractive(key) {\n",
              "          const element = document.querySelector('#df-5802cb25-571b-4712-92d9-105797987404');\n",
              "          const dataTable =\n",
              "            await google.colab.kernel.invokeFunction('convertToInteractive',\n",
              "                                                     [key], {});\n",
              "          if (!dataTable) return;\n",
              "\n",
              "          const docLinkHtml = 'Like what you see? Visit the ' +\n",
              "            '<a target=\"_blank\" href=https://colab.research.google.com/notebooks/data_table.ipynb>data table notebook</a>'\n",
              "            + ' to learn more about interactive tables.';\n",
              "          element.innerHTML = '';\n",
              "          dataTable['output_type'] = 'display_data';\n",
              "          await google.colab.output.renderOutput(dataTable, element);\n",
              "          const docLink = document.createElement('div');\n",
              "          docLink.innerHTML = docLinkHtml;\n",
              "          element.appendChild(docLink);\n",
              "        }\n",
              "      </script>\n",
              "    </div>\n",
              "  </div>\n",
              "  "
            ]
          },
          "metadata": {},
          "execution_count": 13
        }
      ]
    },
    {
      "cell_type": "code",
      "source": [
        "#Observando tamanho do dataset\n",
        "linhas, colunas = df.shape\n",
        "print(f'O dataset tem {linhas} linhas e {colunas} colunas')"
      ],
      "metadata": {
        "colab": {
          "base_uri": "https://localhost:8080/"
        },
        "id": "I7R_AWpapPMO",
        "outputId": "3d4ab71e-f76f-408e-9746-766199ae923c"
      },
      "execution_count": 16,
      "outputs": [
        {
          "output_type": "stream",
          "name": "stdout",
          "text": [
            "O dataset tem 2000 linhas e 8 colunas\n"
          ]
        }
      ]
    },
    {
      "cell_type": "code",
      "source": [
        "#Observando possíveis dados duplicados\n",
        "df.duplicated().sum()"
      ],
      "metadata": {
        "colab": {
          "base_uri": "https://localhost:8080/"
        },
        "id": "L_h0nz89qDIJ",
        "outputId": "5b63d582-118b-48cb-f551-2711a68de17a"
      },
      "execution_count": 17,
      "outputs": [
        {
          "output_type": "execute_result",
          "data": {
            "text/plain": [
              "0"
            ]
          },
          "metadata": {},
          "execution_count": 17
        }
      ]
    },
    {
      "cell_type": "markdown",
      "source": [
        "## 3- **Análise exploratória dos dados**"
      ],
      "metadata": {
        "id": "i6t67JTvu4q8"
      }
    },
    {
      "cell_type": "code",
      "source": [
        "#Observando a idade dos usuários das lojas\n",
        "df['Age'].hist()"
      ],
      "metadata": {
        "colab": {
          "base_uri": "https://localhost:8080/",
          "height": 283
        },
        "id": "PAjupKnlvIpZ",
        "outputId": "f8b6bef3-b04f-4645-c91e-7014035ceaa9"
      },
      "execution_count": 20,
      "outputs": [
        {
          "output_type": "execute_result",
          "data": {
            "text/plain": [
              "<matplotlib.axes._subplots.AxesSubplot at 0x7f3bed145990>"
            ]
          },
          "metadata": {},
          "execution_count": 20
        },
        {
          "output_type": "display_data",
          "data": {
            "text/plain": [
              "<Figure size 432x288 with 1 Axes>"
            ],
            "image/png": "[encoded data removed]"
          },
          "metadata": {
            "needs_background": "light"
          }
        }
      ]
    },
    {
      "cell_type": "code",
      "source": [
        "#Observando possíveis outliers\n",
        "sns.boxplot(df['Age'])"
      ],
      "metadata": {
        "colab": {
          "base_uri": "https://localhost:8080/",
          "height": 354
        },
        "id": "VwvTxif7va-N",
        "outputId": "72a93af2-6af1-42df-ae27-ee2661e91dc5"
      },
      "execution_count": 23,
      "outputs": [
        {
          "output_type": "stream",
          "name": "stderr",
          "text": [
            "/usr/local/lib/python3.7/dist-packages/seaborn/_decorators.py:43: FutureWarning: Pass the following variable as a keyword arg: x. From version 0.12, the only valid positional argument will be `data`, and passing other arguments without an explicit keyword will result in an error or misinterpretation.\n",
            "  FutureWarning\n"
          ]
        },
        {
          "output_type": "execute_result",
          "data": {
            "text/plain": [
              "<matplotlib.axes._subplots.AxesSubplot at 0x7f3be080d310>"
            ]
          },
          "metadata": {},
          "execution_count": 23
        },
        {
          "output_type": "display_data",
          "data": {
            "text/plain": [
              "<Figure size 432x288 with 1 Axes>"
            ],
            "image/png": "[encoded data removed]"
          },
          "metadata": {
            "needs_background": "light"
          }
        }
      ]
    },
    {
      "cell_type": "markdown",
      "source": [
        "Como os outliers são de idades acima de 60 anos, vamos mantê-los pois não aparenta ter erro nos dados e porque índices sociais indicam que na senioridade existe maior poderio financeiro, por isso serão importantes para nossas análises"
      ],
      "metadata": {
        "id": "8w5dn7SUv2rU"
      }
    },
    {
      "cell_type": "code",
      "source": [
        "#Observando agora a variável da escolaridade\n",
        "df['Education'].value_counts()"
      ],
      "metadata": {
        "colab": {
          "base_uri": "https://localhost:8080/"
        },
        "id": "aCOsvV5UwIgX",
        "outputId": "78f0b17a-44dc-4f69-8cf2-d565e15ea0f6"
      },
      "execution_count": 25,
      "outputs": [
        {
          "output_type": "execute_result",
          "data": {
            "text/plain": [
              "1    1386\n",
              "2     291\n",
              "0     287\n",
              "3      36\n",
              "Name: Education, dtype: int64"
            ]
          },
          "metadata": {},
          "execution_count": 25
        }
      ]
    },
    {
      "cell_type": "markdown",
      "source": [
        "O local é mais frequentado por pessoas com ensino médio completo, onde da graduação até outros postos acadêmicos mais avançados tem uma quantidade minoritária"
      ],
      "metadata": {
        "id": "0LwMPT3zwbK-"
      }
    },
    {
      "cell_type": "code",
      "source": [
        "#Vamos observar os gastos no local\n",
        "df['Income'].hist()"
      ],
      "metadata": {
        "colab": {
          "base_uri": "https://localhost:8080/",
          "height": 283
        },
        "id": "iOEbUeZFyLBK",
        "outputId": "e0bce36b-21d6-4f9e-ffbd-1e7e2e6d9834"
      },
      "execution_count": 27,
      "outputs": [
        {
          "output_type": "execute_result",
          "data": {
            "text/plain": [
              "<matplotlib.axes._subplots.AxesSubplot at 0x7f3bdd172490>"
            ]
          },
          "metadata": {},
          "execution_count": 27
        },
        {
          "output_type": "display_data",
          "data": {
            "text/plain": [
              "<Figure size 432x288 with 1 Axes>"
            ],
            "image/png": "[encoded data removed]"
          },
          "metadata": {
            "needs_background": "light"
          }
        }
      ]
    },
    {
      "cell_type": "code",
      "source": [
        "#Possíveis outliers\n",
        "sns.boxplot(df['Income'])"
      ],
      "metadata": {
        "colab": {
          "base_uri": "https://localhost:8080/",
          "height": 354
        },
        "id": "LOH7s7EfyRpB",
        "outputId": "d44a4063-ce44-4b75-fb07-9721464b615f"
      },
      "execution_count": 28,
      "outputs": [
        {
          "output_type": "stream",
          "name": "stderr",
          "text": [
            "/usr/local/lib/python3.7/dist-packages/seaborn/_decorators.py:43: FutureWarning: Pass the following variable as a keyword arg: x. From version 0.12, the only valid positional argument will be `data`, and passing other arguments without an explicit keyword will result in an error or misinterpretation.\n",
            "  FutureWarning\n"
          ]
        },
        {
          "output_type": "execute_result",
          "data": {
            "text/plain": [
              "<matplotlib.axes._subplots.AxesSubplot at 0x7f3bdd0ada90>"
            ]
          },
          "metadata": {},
          "execution_count": 28
        },
        {
          "output_type": "display_data",
          "data": {
            "text/plain": [
              "<Figure size 432x288 with 1 Axes>"
            ],
            "image/png": "[encoded data removed]"
          },
          "metadata": {
            "needs_background": "light"
          }
        }
      ]
    },
    {
      "cell_type": "markdown",
      "source": [
        "Pela lógica apresentada na análise da idade prosseguirei aqui com os outliers, que podem ter correlação"
      ],
      "metadata": {
        "id": "7TVPAMFkyZCo"
      }
    },
    {
      "cell_type": "code",
      "source": [
        "#Análise bivariada da idade e dos gastos\n",
        "fig  = px.scatter(df, x = 'Age', y = 'Income', log_x = True, width = 800)\n",
        "fig.update_traces(marker = dict(size = 12, line=dict(width = 2)), selector = dict(mode = 'markers'))\n",
        "fig.update_layout(title = 'Idade X Gastos')\n",
        "fig.update_xaxes(title = 'Idade')\n",
        "fig.update_yaxes(title = 'Gastos')\n",
        "fig.show()"
      ],
      "metadata": {
        "colab": {
          "base_uri": "https://localhost:8080/",
          "height": 542
        },
        "id": "HBhDta0byAPp",
        "outputId": "582fdfc3-1d79-4a3b-c991-7de16f7a22f4"
      },
      "execution_count": 29,
      "outputs": [
        {
          "output_type": "display_data",
          "data": {
            "text/html": [
              "<html>\n",
              "<head><meta charset=\"utf-8\" /></head>\n",
              "<body>\n",
              "    <div>            <script src=\"https://cdnjs.cloudflare.com/ajax/libs/mathjax/2.7.5/MathJax.js?config=TeX-AMS-MML_SVG\"></script><script type=\"text/javascript\">if (window.MathJax) {MathJax.Hub.Config({SVG: {font: \"STIX-Web\"}});}</script>                <script type=\"text/javascript\">window.PlotlyConfig = {MathJaxConfig: 'local'};</script>\n",
              "        <script src=\"https://cdn.plot.ly/plotly-2.8.3.min.js\"></script>                <div id=\"e803333f-b92a-43ea-b12c-6a312d3d76a7\" class=\"plotly-graph-div\" style=\"height:525px; width:800px;\"></div>            <script type=\"text/javascript\">                                    window.PLOTLYENV=window.PLOTLYENV || {};                                    if (document.getElementById(\"e803333f-b92a-43ea-b12c-6a312d3d76a7\")) {                    Plotly.newPlot(                        \"e803333f-b92a-43ea-b12c-6a312d3d76a7\",                        [{\"hovertemplate\":\"Age=%{x}<br>Income=%{y}<extra></extra>\",\"legendgroup\":\"\",\"marker\":{\"color\":\"#636efa\",\"symbol\":\"circle\",\"line\":{\"width\":2},\"size\":12},\"mode\":\"markers\",\"name\":\"\",\"showlegend\":false,\"x\":[67,22,49,45,53,35,53,35,61,28,25,24,22,60,28,32,53,25,44,31,48,44,48,44,26,36,39,42,34,63,36,27,30,57,33,25,31,37,37,24,30,26,44,24,58,35,39,23,39,28,29,30,25,31,57,26,52,31,23,23,27,50,61,25,26,48,29,22,37,25,30,46,51,41,40,66,34,51,39,22,44,47,24,58,52,29,27,47,30,28,56,54,33,20,54,58,61,34,36,36,41,24,24,35,26,39,39,32,30,35,31,23,28,25,35,47,30,27,23,36,25,41,24,63,27,30,40,30,34,29,24,29,27,47,21,38,27,66,35,44,27,30,27,22,23,30,39,51,28,46,42,38,24,29,36,20,48,45,38,34,36,30,36,70,36,32,33,20,25,31,33,26,34,33,26,53,42,52,31,65,28,30,40,50,36,31,74,68,20,33,54,34,36,29,21,34,28,27,36,40,52,27,26,21,38,38,43,26,21,55,33,45,50,66,51,39,31,23,24,64,26,23,30,32,30,27,27,53,22,22,26,51,35,25,42,30,23,61,35,39,29,51,24,27,35,25,52,35,26,22,39,46,24,35,24,27,35,29,23,57,27,55,36,57,32,37,36,38,45,25,32,37,36,28,34,32,26,49,32,29,23,50,49,63,37,35,26,31,49,48,26,28,44,56,46,26,20,45,43,32,54,42,37,49,44,33,24,33,24,22,40,25,26,25,29,31,38,48,32,27,28,32,34,28,36,39,49,34,31,28,75,30,24,24,23,44,23,24,28,31,24,26,25,33,37,43,23,23,34,32,23,29,38,28,46,23,49,26,28,23,61,37,36,21,25,36,27,22,42,40,36,33,23,63,60,37,34,36,57,52,39,38,25,26,26,25,21,40,27,27,30,19,39,31,31,32,55,46,46,43,39,28,27,27,43,22,43,27,26,28,20,35,42,40,35,35,33,23,31,33,20,30,47,34,25,21,29,46,20,55,74,29,36,33,25,25,23,37,65,26,39,30,29,41,30,41,34,35,55,61,30,29,34,35,31,29,36,35,27,32,37,36,34,38,34,63,29,32,26,35,22,23,28,36,33,26,24,25,39,44,23,26,57,30,44,47,52,62,35,26,26,42,27,38,39,20,29,40,32,28,27,42,49,38,24,27,36,34,28,45,26,32,26,20,54,37,40,23,43,36,44,24,53,23,26,30,31,42,31,41,32,28,41,26,25,33,75,37,42,45,23,60,31,34,61,43,37,32,24,35,23,45,34,27,67,22,28,29,27,31,49,24,29,37,37,23,36,34,41,31,23,38,26,22,27,24,27,33,27,27,30,49,26,33,52,20,36,21,47,60,58,42,36,20,40,32,23,36,31,32,45,30,34,28,23,22,74,50,33,45,22,48,29,22,22,48,27,37,21,49,27,32,38,22,65,35,41,29,36,64,28,44,23,19,25,47,28,21,34,26,27,38,40,33,32,27,32,26,38,40,50,37,45,42,35,22,41,37,28,41,23,23,50,35,50,27,34,27,43,47,27,31,42,24,41,26,33,24,64,26,56,37,33,47,31,34,27,30,35,31,25,25,29,44,28,50,29,38,24,40,29,46,47,41,32,35,24,25,25,37,32,35,46,25,27,63,40,32,31,31,34,24,24,66,21,41,47,25,59,36,33,21,44,28,37,29,23,35,45,26,32,23,41,22,30,28,23,37,26,33,49,23,23,25,55,32,74,39,31,35,59,24,24,30,27,40,31,31,28,63,26,25,36,52,66,25,37,25,38,67,25,60,31,23,60,35,40,38,50,27,39,41,27,51,32,22,51,22,54,35,54,48,24,35,24,24,26,65,55,26,26,28,24,54,46,54,62,24,43,26,27,24,41,47,35,30,33,36,47,38,44,23,29,42,25,48,21,23,63,46,29,28,23,50,47,35,68,28,59,57,33,43,35,32,45,33,40,28,29,26,27,28,35,32,25,20,27,42,37,24,40,46,26,24,29,40,36,28,27,36,38,48,36,65,43,53,34,23,34,40,43,46,38,34,29,31,28,35,33,42,43,44,42,40,36,20,24,27,46,33,34,25,25,28,31,32,32,68,33,39,28,37,22,30,55,46,21,39,58,43,24,22,30,42,23,30,28,30,42,46,45,31,31,42,46,30,30,38,43,31,40,24,28,26,29,57,49,37,45,30,30,47,29,35,22,26,23,54,29,40,22,43,29,36,33,57,64,42,47,25,49,33,28,26,30,25,33,64,29,48,37,34,23,30,50,31,40,38,23,27,63,66,43,44,65,73,60,62,58,43,64,37,46,57,51,32,64,68,55,73,34,44,58,65,56,42,65,72,45,68,60,30,63,57,46,70,65,63,54,49,64,61,57,42,62,41,51,38,56,43,48,61,48,68,62,56,53,33,60,47,25,64,73,66,76,60,57,30,43,57,51,61,64,41,43,67,71,59,60,60,45,63,38,46,55,50,30,63,67,54,71,32,45,65,62,28,65,57,48,71,38,40,49,32,45,40,66,38,20,48,46,32,54,24,27,57,38,40,20,36,47,64,42,44,30,37,42,62,49,52,36,49,42,38,50,34,43,40,56,41,30,28,64,67,37,31,32,52,31,36,32,51,47,34,46,42,39,50,42,36,18,35,38,39,24,41,36,37,45,41,36,38,38,53,35,48,36,22,35,42,39,31,33,31,42,61,38,33,48,31,52,27,40,34,26,30,53,45,32,35,26,30,37,32,40,44,43,51,37,33,32,35,30,35,40,37,37,37,53,34,51,26,34,51,33,32,39,53,34,37,28,25,36,36,35,21,29,60,45,56,30,52,26,43,34,22,42,38,29,44,29,44,38,26,53,43,33,52,26,38,47,26,36,36,57,31,45,40,21,46,35,31,51,21,48,48,68,45,35,22,44,52,48,33,35,64,58,24,40,49,31,46,46,49,29,37,33,71,35,40,27,61,29,33,56,27,22,19,28,24,27,30,26,26,23,28,67,27,32,24,28,48,32,25,57,28,24,25,31,33,50,58,27,48,22,40,32,25,27,27,23,32,25,46,21,29,31,26,23,38,35,27,22,52,19,23,42,27,39,50,36,25,27,30,22,27,31,29,34,33,26,36,26,39,44,46,31,26,22,48,27,30,27,36,31,21,26,24,29,32,45,58,25,67,53,24,20,71,31,27,36,25,41,30,32,29,27,32,25,24,63,42,22,46,24,30,44,25,27,27,34,18,25,21,26,27,25,30,66,25,43,35,70,35,26,29,22,26,36,35,28,24,34,25,54,46,42,45,48,21,31,35,36,32,26,34,65,50,39,52,36,29,36,36,27,36,26,57,27,58,27,49,43,45,27,34,21,54,43,25,57,26,30,58,25,23,22,21,20,22,27,24,23,26,28,64,26,31,28,25,49,33,27,59,28,24,26,33,37,46,62,26,49,25,37,31,25,21,27,29,30,26,40,23,31,29,22,26,39,35,26,28,56,22,26,41,29,42,50,33,28,27,27,28,24,28,32,32,30,29,37,24,36,40,51,33,31,29,48,25,28,23,32,34,23,25,25,27,29,46,61,25,67,49,21,19,67,31,27,37,27,36,24,31,29,28,34,26,21,63,38,20,44,31,33,49,26,28,30,36,27,23,31,27,25,23,27,38,44,42,25,40,24,39,24,50,28,36,36,40,31,27,35,51,26,33,27,38,30,28,23,23,26,21,36,24,41,42,27,40,34,40,33,49,28,26,40,47,41,29,37,31,35,35,29,37,37,26,28,23,38,30,45,24,35,41,30,30,26,25,23,27,26,25,27,42,35,25,26,38,28,33,40,23,25,28,41,50,23,26,22,37,38,22,30,38,36,41,29,31,31,21,32,35,29,34,38,33,28,28,21,29,26,40,25,20,23,27,36,25,25,34,24,36,40,39,42,35,27,27,23,32,28,22,31,22,23,35,26,28,54,49,38,47,49,30,32,24,25,33,34,24,36,41,33,26,36,35,29,26,31,26,47,20,45,36,31,41,31,27,32,43,32,29,37,35,23,40,26,28,40,26,23,26,26,49,26,35,24,46,26,47,27,41,29,28,33,50,32,31,52,53,34,22,33,32,45,25,41,36,27,40,37,35,34,28,44,27,50,18,25,40,28,23,35,28,23,34,29,35,32,46,27,25,27,24,33,24,28,35,30,43,21,24,34,26,37,32,33,28,30,26,25,33,30,26,23,25,40,46,43,22,39,27,40,24,52,30,34,38,39,29,25,35,53,26,33,29,39,29,26,24,21,26,20,35,24,40,44,29,39,35,42,32,48,26,26,42,48,42,27,37,33,33,37,31,39,40,28,26,24,40,29,43,23,34,42,33,32,26,23,26,27,24,27,26,42,37,26,24,39,26,35,38,24,26,25,40,48,22,25,24,39,39,21,27,40,37,42,31,31,30,23,33,37,29,31,39,33,26,27,20,27,26,40,24,22,24,27,35,27,25,34,24,34,42,38,42,35,27,25,23,34,28,21,32,21,25,35,25,31,54,51,38,45,47,27,31,24,25],\"xaxis\":\"x\",\"y\":[124670,150773,89210,171565,149031,144848,156495,193621,151591,174646,108469,127596,108687,89374,102899,88428,125550,157434,261952,144657,118777,147511,89804,134918,103667,71909,68264,163025,119307,175882,159646,120131,162745,87605,155569,104505,143385,127676,119276,92542,163329,130921,133658,155104,142335,138387,140182,65421,130500,122831,84531,180196,92058,117158,135830,58258,202575,183657,152267,115240,106955,123641,166410,227385,118372,148115,111069,139780,106978,110019,169102,73703,141858,135959,140888,157299,125187,155486,151697,126400,159246,136138,84792,100210,93706,133783,110064,241068,149022,92973,110605,116604,71070,128678,165230,268340,135070,134794,120153,195465,93372,110446,95186,115343,107276,244716,183108,152876,165147,140520,124203,107205,121432,162445,134112,131842,189896,109099,153539,180495,104653,166933,66118,135754,116103,104293,71702,99066,143979,123818,176714,149249,77535,116540,194728,109311,204723,126003,123109,108251,89908,176057,144332,101185,107406,140665,106461,127825,133898,152383,119926,108784,153286,214204,208101,95355,124156,72215,146529,75343,129789,101153,127833,224998,124445,141116,104276,147687,125168,115369,95445,95159,153031,108899,113515,211229,121307,131727,133574,117334,177291,168763,77720,176645,106205,97785,214364,74525,98988,133561,217651,116525,135302,106434,128350,147626,102697,120262,124214,175223,137467,65815,129864,88475,74666,222294,112878,103411,112868,157940,115835,109807,150699,178967,132767,86152,114528,133912,81210,131242,68804,96961,90719,114116,128639,106623,236264,207783,91739,107780,139157,121751,121974,70320,78327,131433,167076,130788,107408,115323,99012,115996,123353,100008,125105,92020,108365,112979,117221,88800,115099,113399,115879,141270,107633,131751,83687,106828,135537,107142,97446,126357,169617,108945,67345,106215,149237,112124,215150,89534,111082,137069,244541,120712,175367,111418,110913,84267,136886,144884,151180,114997,100961,124849,152308,167945,126706,210017,125665,111184,94134,214620,193816,168714,202997,192451,127928,78253,118446,161379,56622,146117,90418,109053,219319,144701,102425,79867,107114,62263,92567,146349,141825,68582,85476,111091,67110,126154,92257,93605,165190,107195,145059,148363,105681,93732,154778,149356,145670,101589,213333,122420,209856,181003,117804,160650,84611,98479,122359,81394,150372,92385,149851,167939,115426,85402,95815,97518,87355,145933,97307,108434,151312,141847,130675,69309,121466,153586,92849,108539,129556,170146,135383,96769,43684,103521,118499,119684,126586,136812,118277,144597,106043,272314,309364,170386,112458,96840,281923,95551,112347,260977,99354,111509,105252,108522,94655,201699,139868,102543,134467,111187,152302,110610,137827,220923,165717,122299,120499,126449,108315,112515,164559,59238,131133,109188,115393,94711,171860,139414,110931,187549,145508,104240,108272,144004,81083,166763,175530,112422,154134,112401,85690,145896,122552,115494,109467,148226,88559,62393,122133,230883,136689,109145,100449,106253,84747,149465,84435,51681,139198,106577,117372,69609,178947,81743,111900,121650,172639,175740,220050,95200,113609,143552,130973,145946,126206,120426,91925,129630,124268,105240,162180,106552,105843,138327,76154,155012,114369,102839,132796,89742,58615,130603,110340,117729,130808,147402,93567,109289,98742,101270,187835,140741,133265,148100,131021,152620,85033,114514,99307,219451,114007,102846,81483,107779,222360,107125,80080,129600,118613,146237,144461,124487,97826,64105,156374,205383,98964,221842,88027,160513,124536,93634,124725,102456,74975,153861,119351,95438,147967,116863,170622,132426,77519,169405,120030,77933,109892,69062,116348,137188,110199,109890,109751,129651,170113,140285,198029,120262,105137,127371,145689,102617,90709,107099,116021,100426,62249,172957,95003,109698,157376,123191,171052,99328,133799,138256,115638,82238,127543,63987,114784,217450,173751,122850,104953,152371,139905,156700,86488,147472,169991,62381,70926,113004,125760,111918,120674,63597,103069,108079,101159,88211,159052,102623,115589,59127,82240,129425,87058,128462,121403,88141,134946,94058,99285,108432,111369,122612,134350,108838,90852,151580,115681,131699,192481,155122,106015,108378,105257,118788,162955,119511,102000,254449,208446,124805,139379,78296,125598,100215,130951,102480,136812,106919,131020,119429,154521,117842,124566,110009,101210,101258,79045,110866,129640,227021,108549,122693,35832,81870,179790,107158,136638,158147,132587,128140,117405,68475,201656,86967,118006,223630,110442,115691,80232,187647,138952,162772,111862,90051,121400,137000,105031,172153,170184,123279,140795,144456,104773,153353,223018,129177,114475,161323,135765,158421,103941,101783,126531,111394,103577,149545,171857,149782,112470,133907,127849,160279,92366,104794,133436,110374,104263,138752,102723,46297,96425,158197,98008,157473,149306,139236,125890,173124,164621,124539,107614,88849,148566,106515,150465,60868,255198,183178,121448,129975,132950,169314,147958,139896,68028,133328,108518,112700,110190,105104,184753,162521,156794,65827,88490,154919,129058,77532,235417,113468,190803,121423,121347,67408,123043,128387,250050,69588,109547,78840,131122,115403,110291,64811,86015,142438,159303,104957,89502,121313,98102,94554,162591,106629,70400,235660,121747,85060,87630,119673,126060,96145,114830,194461,150158,136323,111858,100198,123452,120723,215639,166712,136300,166988,77265,85967,212020,126054,144589,116723,168637,139119,118610,183312,96323,149510,141922,120233,172790,66720,113024,51791,118408,101616,127250,97290,106970,168147,68468,120780,231992,53903,101511,69046,171584,132367,134433,190518,152367,101157,279593,96716,95171,129162,118742,74511,157272,102374,131492,128702,177509,163451,144900,97115,196568,158405,97376,108678,92351,61211,138644,124824,132852,81069,104094,114853,130344,135090,179151,97390,120160,82277,110844,133105,102042,69370,200298,117039,107585,114429,128234,128580,177757,106222,118428,139477,71159,131370,111567,125482,160642,92498,199711,127588,107508,94629,87598,161194,137342,116848,125190,153441,195328,190413,118656,69487,145313,117005,123243,237799,180617,167019,147745,114254,81155,151803,94356,200621,144448,150797,84404,133373,119502,131619,194084,108278,130987,116582,85270,129227,108291,103091,136975,111502,124750,146463,115075,308491,126368,287247,125535,153223,106873,268906,97757,112151,172909,103387,93916,189963,124191,77205,65917,109676,95682,125516,99822,154854,84582,145800,162869,192379,159757,69571,93648,77472,121501,207262,143082,147760,82082,132991,78436,99737,164915,223185,108400,194882,122186,79594,104355,135894,103699,132145,117272,137932,63972,113299,108540,174424,154991,99723,114584,135275,41680,158769,120596,139641,134377,125804,91858,117641,188594,162827,178991,159739,73401,100794,167763,145174,176292,94024,93740,85685,69997,151938,122830,78489,161999,98032,96060,147968,134853,157576,203738,280570,69487,214126,136671,174337,126710,167139,122094,170113,192698,144197,133623,171052,130492,135705,171804,192167,134377,146716,267872,142193,183765,218664,145174,224961,262634,287106,166298,133328,129798,281084,160678,167532,178591,273063,149410,124658,153645,308529,155062,199654,124723,127752,157595,135534,166264,147259,161116,139380,213768,125903,163940,173378,126847,166712,189166,161714,214364,184680,214732,152527,170366,194532,125883,131242,159880,165519,149653,134102,159378,205476,280566,71823,211572,136123,176372,128271,169020,122267,169324,192561,145781,135376,169002,128469,135567,170644,192360,133235,260847,285647,164816,130148,129838,281647,157305,163654,82398,107710,122346,155540,127572,154031,164931,123003,89605,117721,168904,137576,111274,94249,180940,125032,138011,144850,107270,113405,137338,125119,159745,181262,90500,102733,135493,169044,178549,159716,170118,143886,130164,114476,126143,129654,123202,160524,126906,143994,123517,129055,136312,112486,152401,157453,142870,137231,104406,145385,146519,126227,112227,110145,149419,176646,91019,169579,142305,130602,98992,181926,152864,135837,121757,182274,149040,154196,135332,134200,177171,115964,136871,159559,113878,171203,102180,116844,139844,156431,116137,143081,155870,106924,102133,145227,159500,98498,159714,121852,141271,123213,143723,112538,97932,154003,177179,128052,114617,182822,177215,110929,111821,97306,157231,126906,133243,112250,104349,151421,178081,110181,113012,154585,144704,141632,105055,124597,160164,151754,155551,94986,175800,126246,116261,117796,115363,169076,97474,140341,114503,102937,151781,123133,118879,158683,107514,193879,135043,108559,121038,151947,118820,121517,113572,131170,92430,124554,115988,107301,103767,141493,154339,112369,158193,143734,121890,127609,94650,175504,165495,120389,165340,119804,154344,106266,136129,151914,121473,127147,125387,139490,124990,101471,155708,142345,148675,116484,150237,100273,122292,159216,130082,139547,122895,154549,149315,118101,115831,118571,138906,98520,106576,121592,135605,114552,151339,170387,118288,109992,90654,113290,100093,109489,139427,123411,137925,99119,91084,110137,67041,127299,84555,123895,94324,96062,144843,107485,98573,107462,115809,118749,139112,94075,62002,127262,122846,61907,89287,103696,147603,139229,107932,116235,85974,124001,121428,93233,67965,88001,129112,109324,112785,136735,107779,103526,93171,106559,112728,102855,85381,100762,131445,123194,99519,112853,110509,106446,89665,128233,133615,115833,65560,118642,63635,122649,143321,99556,36760,71935,114977,147691,54296,80014,77887,98517,103012,121377,91359,104833,101209,58207,116708,107471,128495,124468,106922,104291,98204,127071,85115,104013,89863,135300,107861,123994,91270,133245,118594,40606,129304,113118,133131,106876,130870,125621,78923,123983,75184,109693,86273,113190,109274,143489,99570,139468,108627,106355,96952,141502,110420,97741,99583,63698,116688,131542,136055,100195,131001,104062,137689,137705,69915,68731,105726,78078,110835,115531,92723,107509,116763,100733,92652,106987,51882,104751,50947,126986,110223,100591,123257,137736,110221,99703,106667,143319,135557,93390,97577,124196,81136,119439,145231,85623,145373,135896,106470,113334,100560,108442,64472,120207,101680,92342,98611,97613,82298,125302,108725,85569,110372,100511,110455,141993,121789,138967,105230,90656,115445,59955,126268,80830,123625,102543,101948,142280,105434,106115,111057,117758,118396,136260,97192,62101,123497,120326,66645,83429,107539,153880,140178,100402,122158,89331,125359,124110,93526,70170,82357,126745,103326,116048,137115,105365,95911,88669,103776,108864,106037,84851,95748,133616,132752,95712,109063,113521,109380,82558,124777,133542,116492,68834,124023,63882,122492,141453,99327,45590,71167,111992,145140,49672,75536,86720,97729,106808,117971,97731,109196,94905,57480,109175,111174,127255,115499,109499,104696,104467,120157,81200,97558,95914,128053,101734,126009,91232,128343,110040,38247,129027,115026,130323,103181,138307,122564,82351,125351,82940,108029,82734,116816,113472,143343,104074,138525,106960,108323,95784,140673,104235,54041,107961,113757,94884,126041,64952,66764,67861,113516,46109,103651,75043,116473,96614,66447,119068,122973,81609,105519,86649,76384,67136,93155,124183,64860,87232,92304,84254,106696,113212,71076,114270,125538,92442,75297,65707,120387,120946,73265,77481,91282,104405,99646,97791,81878,107908,98608,95228,128163,94325,90815,120719,110159,124490,75161,127206,83660,87400,78942,88452,104128,100313,107387,84355,112723,115892,106597,121327,92559,87537,70569,85294,70905,103716,94947,80116,86492,88672,82984,128100,72869,112227,94674,101003,112924,108645,69415,112204,109700,104484,61239,119602,81014,68165,88652,75705,104189,71603,121914,106637,99800,67629,120354,122110,89170,109195,92392,43805,68389,112521,59255,98612,70649,95228,46865,101688,62618,102531,100737,107321,112879,125372,69419,124759,79076,84779,77393,113187,99100,64954,103244,124975,133582,103519,117813,119902,70783,125470,109782,78322,125517,102463,89309,110287,122391,116399,81907,97909,68051,82414,123089,66537,127926,78963,108694,100892,119560,116176,111854,69831,69375,71310,73913,95492,109329,116027,81987,83481,72361,106625,123707,79353,68347,115832,89946,86319,70963,106120,97856,61824,103907,99953,113413,107091,124783,92281,96219,86221,80962,78754,60026,88157,59881,112818,102250,38980,81807,93148,108032,89335,95639,124902,87801,92538,83687,128310,104754,68222,97006,107372,110511,72193,95972,105556,88701,117710,76057,100392,113308,100924,72188,70431,110103,60825,75100,129327,95541,112777,51496,102781,87494,72728,114775,124359,101620,87964,69523,109486,77206,53608,118677,116512,114756,65852,75626,127455,107073,82196,106741,94518,114430,57165,109610,113619,93854,129022,66804,62689,67619,113495,48632,107394,72385,115934,93183,63506,113619,121399,78281,103926,89097,80852,65207,93495,121970,62027,88602,89914,83342,103439,115451,68250,113630,125880,91177,73266,69021,122593,122180,75160,81973,92194,107380,98023,94868,83442,109887,98876,94962,130740,94095,95071,117308,112093,123893,80189,124089,82673,88858,80540,84228,103963,102397,111563,88260,114767,113275,104755,120525,96082,87227,69333,87777,70978,104196,97551,78979,82500,86306,78762,125543,70336,112975,96681,98922,109250,108960,71302,107757,111600,102974,63442,118913,80987,68790,86462,76881,107409,69114,119167,102018,97680,65062,118144,124548,85637,113108,93554,42516,72429,110154,60965,100618,71021,94189,44742,103201,62335,103787,99401,105197,115566,125843,67936,120863,77317,84653,81606,113380,100644,64037,101350,126334,130877,103470,114588,120682,66628,124447,106567,78758,128537,101074,87670,113414,123525,117744,86400,97968,68416],\"yaxis\":\"y\",\"type\":\"scattergl\"}],                        {\"template\":{\"data\":{\"bar\":[{\"error_x\":{\"color\":\"#2a3f5f\"},\"error_y\":{\"color\":\"#2a3f5f\"},\"marker\":{\"line\":{\"color\":\"#E5ECF6\",\"width\":0.5},\"pattern\":{\"fillmode\":\"overlay\",\"size\":10,\"solidity\":0.2}},\"type\":\"bar\"}],\"barpolar\":[{\"marker\":{\"line\":{\"color\":\"#E5ECF6\",\"width\":0.5},\"pattern\":{\"fillmode\":\"overlay\",\"size\":10,\"solidity\":0.2}},\"type\":\"barpolar\"}],\"carpet\":[{\"aaxis\":{\"endlinecolor\":\"#2a3f5f\",\"gridcolor\":\"white\",\"linecolor\":\"white\",\"minorgridcolor\":\"white\",\"startlinecolor\":\"#2a3f5f\"},\"baxis\":{\"endlinecolor\":\"#2a3f5f\",\"gridcolor\":\"white\",\"linecolor\":\"white\",\"minorgridcolor\":\"white\",\"startlinecolor\":\"#2a3f5f\"},\"type\":\"carpet\"}],\"choropleth\":[{\"colorbar\":{\"outlinewidth\":0,\"ticks\":\"\"},\"type\":\"choropleth\"}],\"contour\":[{\"colorbar\":{\"outlinewidth\":0,\"ticks\":\"\"},\"colorscale\":[[0.0,\"#0d0887\"],[0.1111111111111111,\"#46039f\"],[0.2222222222222222,\"#7201a8\"],[0.3333333333333333,\"#9c179e\"],[0.4444444444444444,\"#bd3786\"],[0.5555555555555556,\"#d8576b\"],[0.6666666666666666,\"#ed7953\"],[0.7777777777777778,\"#fb9f3a\"],[0.8888888888888888,\"#fdca26\"],[1.0,\"#f0f921\"]],\"type\":\"contour\"}],\"contourcarpet\":[{\"colorbar\":{\"outlinewidth\":0,\"ticks\":\"\"},\"type\":\"contourcarpet\"}],\"heatmap\":[{\"colorbar\":{\"outlinewidth\":0,\"ticks\":\"\"},\"colorscale\":[[0.0,\"#0d0887\"],[0.1111111111111111,\"#46039f\"],[0.2222222222222222,\"#7201a8\"],[0.3333333333333333,\"#9c179e\"],[0.4444444444444444,\"#bd3786\"],[0.5555555555555556,\"#d8576b\"],[0.6666666666666666,\"#ed7953\"],[0.7777777777777778,\"#fb9f3a\"],[0.8888888888888888,\"#fdca26\"],[1.0,\"#f0f921\"]],\"type\":\"heatmap\"}],\"heatmapgl\":[{\"colorbar\":{\"outlinewidth\":0,\"ticks\":\"\"},\"colorscale\":[[0.0,\"#0d0887\"],[0.1111111111111111,\"#46039f\"],[0.2222222222222222,\"#7201a8\"],[0.3333333333333333,\"#9c179e\"],[0.4444444444444444,\"#bd3786\"],[0.5555555555555556,\"#d8576b\"],[0.6666666666666666,\"#ed7953\"],[0.7777777777777778,\"#fb9f3a\"],[0.8888888888888888,\"#fdca26\"],[1.0,\"#f0f921\"]],\"type\":\"heatmapgl\"}],\"histogram\":[{\"marker\":{\"pattern\":{\"fillmode\":\"overlay\",\"size\":10,\"solidity\":0.2}},\"type\":\"histogram\"}],\"histogram2d\":[{\"colorbar\":{\"outlinewidth\":0,\"ticks\":\"\"},\"colorscale\":[[0.0,\"#0d0887\"],[0.1111111111111111,\"#46039f\"],[0.2222222222222222,\"#7201a8\"],[0.3333333333333333,\"#9c179e\"],[0.4444444444444444,\"#bd3786\"],[0.5555555555555556,\"#d8576b\"],[0.6666666666666666,\"#ed7953\"],[0.7777777777777778,\"#fb9f3a\"],[0.8888888888888888,\"#fdca26\"],[1.0,\"#f0f921\"]],\"type\":\"histogram2d\"}],\"histogram2dcontour\":[{\"colorbar\":{\"outlinewidth\":0,\"ticks\":\"\"},\"colorscale\":[[0.0,\"#0d0887\"],[0.1111111111111111,\"#46039f\"],[0.2222222222222222,\"#7201a8\"],[0.3333333333333333,\"#9c179e\"],[0.4444444444444444,\"#bd3786\"],[0.5555555555555556,\"#d8576b\"],[0.6666666666666666,\"#ed7953\"],[0.7777777777777778,\"#fb9f3a\"],[0.8888888888888888,\"#fdca26\"],[1.0,\"#f0f921\"]],\"type\":\"histogram2dcontour\"}],\"mesh3d\":[{\"colorbar\":{\"outlinewidth\":0,\"ticks\":\"\"},\"type\":\"mesh3d\"}],\"parcoords\":[{\"line\":{\"colorbar\":{\"outlinewidth\":0,\"ticks\":\"\"}},\"type\":\"parcoords\"}],\"pie\":[{\"automargin\":true,\"type\":\"pie\"}],\"scatter\":[{\"marker\":{\"colorbar\":{\"outlinewidth\":0,\"ticks\":\"\"}},\"type\":\"scatter\"}],\"scatter3d\":[{\"line\":{\"colorbar\":{\"outlinewidth\":0,\"ticks\":\"\"}},\"marker\":{\"colorbar\":{\"outlinewidth\":0,\"ticks\":\"\"}},\"type\":\"scatter3d\"}],\"scattercarpet\":[{\"marker\":{\"colorbar\":{\"outlinewidth\":0,\"ticks\":\"\"}},\"type\":\"scattercarpet\"}],\"scattergeo\":[{\"marker\":{\"colorbar\":{\"outlinewidth\":0,\"ticks\":\"\"}},\"type\":\"scattergeo\"}],\"scattergl\":[{\"marker\":{\"colorbar\":{\"outlinewidth\":0,\"ticks\":\"\"}},\"type\":\"scattergl\"}],\"scattermapbox\":[{\"marker\":{\"colorbar\":{\"outlinewidth\":0,\"ticks\":\"\"}},\"type\":\"scattermapbox\"}],\"scatterpolar\":[{\"marker\":{\"colorbar\":{\"outlinewidth\":0,\"ticks\":\"\"}},\"type\":\"scatterpolar\"}],\"scatterpolargl\":[{\"marker\":{\"colorbar\":{\"outlinewidth\":0,\"ticks\":\"\"}},\"type\":\"scatterpolargl\"}],\"scatterternary\":[{\"marker\":{\"colorbar\":{\"outlinewidth\":0,\"ticks\":\"\"}},\"type\":\"scatterternary\"}],\"surface\":[{\"colorbar\":{\"outlinewidth\":0,\"ticks\":\"\"},\"colorscale\":[[0.0,\"#0d0887\"],[0.1111111111111111,\"#46039f\"],[0.2222222222222222,\"#7201a8\"],[0.3333333333333333,\"#9c179e\"],[0.4444444444444444,\"#bd3786\"],[0.5555555555555556,\"#d8576b\"],[0.6666666666666666,\"#ed7953\"],[0.7777777777777778,\"#fb9f3a\"],[0.8888888888888888,\"#fdca26\"],[1.0,\"#f0f921\"]],\"type\":\"surface\"}],\"table\":[{\"cells\":{\"fill\":{\"color\":\"#EBF0F8\"},\"line\":{\"color\":\"white\"}},\"header\":{\"fill\":{\"color\":\"#C8D4E3\"},\"line\":{\"color\":\"white\"}},\"type\":\"table\"}]},\"layout\":{\"annotationdefaults\":{\"arrowcolor\":\"#2a3f5f\",\"arrowhead\":0,\"arrowwidth\":1},\"autotypenumbers\":\"strict\",\"coloraxis\":{\"colorbar\":{\"outlinewidth\":0,\"ticks\":\"\"}},\"colorscale\":{\"diverging\":[[0,\"#8e0152\"],[0.1,\"#c51b7d\"],[0.2,\"#de77ae\"],[0.3,\"#f1b6da\"],[0.4,\"#fde0ef\"],[0.5,\"#f7f7f7\"],[0.6,\"#e6f5d0\"],[0.7,\"#b8e186\"],[0.8,\"#7fbc41\"],[0.9,\"#4d9221\"],[1,\"#276419\"]],\"sequential\":[[0.0,\"#0d0887\"],[0.1111111111111111,\"#46039f\"],[0.2222222222222222,\"#7201a8\"],[0.3333333333333333,\"#9c179e\"],[0.4444444444444444,\"#bd3786\"],[0.5555555555555556,\"#d8576b\"],[0.6666666666666666,\"#ed7953\"],[0.7777777777777778,\"#fb9f3a\"],[0.8888888888888888,\"#fdca26\"],[1.0,\"#f0f921\"]],\"sequentialminus\":[[0.0,\"#0d0887\"],[0.1111111111111111,\"#46039f\"],[0.2222222222222222,\"#7201a8\"],[0.3333333333333333,\"#9c179e\"],[0.4444444444444444,\"#bd3786\"],[0.5555555555555556,\"#d8576b\"],[0.6666666666666666,\"#ed7953\"],[0.7777777777777778,\"#fb9f3a\"],[0.8888888888888888,\"#fdca26\"],[1.0,\"#f0f921\"]]},\"colorway\":[\"#636efa\",\"#EF553B\",\"#00cc96\",\"#ab63fa\",\"#FFA15A\",\"#19d3f3\",\"#FF6692\",\"#B6E880\",\"#FF97FF\",\"#FECB52\"],\"font\":{\"color\":\"#2a3f5f\"},\"geo\":{\"bgcolor\":\"white\",\"lakecolor\":\"white\",\"landcolor\":\"#E5ECF6\",\"showlakes\":true,\"showland\":true,\"subunitcolor\":\"white\"},\"hoverlabel\":{\"align\":\"left\"},\"hovermode\":\"closest\",\"mapbox\":{\"style\":\"light\"},\"paper_bgcolor\":\"white\",\"plot_bgcolor\":\"#E5ECF6\",\"polar\":{\"angularaxis\":{\"gridcolor\":\"white\",\"linecolor\":\"white\",\"ticks\":\"\"},\"bgcolor\":\"#E5ECF6\",\"radialaxis\":{\"gridcolor\":\"white\",\"linecolor\":\"white\",\"ticks\":\"\"}},\"scene\":{\"xaxis\":{\"backgroundcolor\":\"#E5ECF6\",\"gridcolor\":\"white\",\"gridwidth\":2,\"linecolor\":\"white\",\"showbackground\":true,\"ticks\":\"\",\"zerolinecolor\":\"white\"},\"yaxis\":{\"backgroundcolor\":\"#E5ECF6\",\"gridcolor\":\"white\",\"gridwidth\":2,\"linecolor\":\"white\",\"showbackground\":true,\"ticks\":\"\",\"zerolinecolor\":\"white\"},\"zaxis\":{\"backgroundcolor\":\"#E5ECF6\",\"gridcolor\":\"white\",\"gridwidth\":2,\"linecolor\":\"white\",\"showbackground\":true,\"ticks\":\"\",\"zerolinecolor\":\"white\"}},\"shapedefaults\":{\"line\":{\"color\":\"#2a3f5f\"}},\"ternary\":{\"aaxis\":{\"gridcolor\":\"white\",\"linecolor\":\"white\",\"ticks\":\"\"},\"baxis\":{\"gridcolor\":\"white\",\"linecolor\":\"white\",\"ticks\":\"\"},\"bgcolor\":\"#E5ECF6\",\"caxis\":{\"gridcolor\":\"white\",\"linecolor\":\"white\",\"ticks\":\"\"}},\"title\":{\"x\":0.05},\"xaxis\":{\"automargin\":true,\"gridcolor\":\"white\",\"linecolor\":\"white\",\"ticks\":\"\",\"title\":{\"standoff\":15},\"zerolinecolor\":\"white\",\"zerolinewidth\":2},\"yaxis\":{\"automargin\":true,\"gridcolor\":\"white\",\"linecolor\":\"white\",\"ticks\":\"\",\"title\":{\"standoff\":15},\"zerolinecolor\":\"white\",\"zerolinewidth\":2}}},\"xaxis\":{\"anchor\":\"y\",\"domain\":[0.0,1.0],\"title\":{\"text\":\"Idade\"},\"type\":\"log\"},\"yaxis\":{\"anchor\":\"x\",\"domain\":[0.0,1.0],\"title\":{\"text\":\"Gastos\"}},\"legend\":{\"tracegroupgap\":0},\"margin\":{\"t\":60},\"width\":800,\"title\":{\"text\":\"Idade X Gastos\"}},                        {\"responsive\": true}                    ).then(function(){\n",
              "                            \n",
              "var gd = document.getElementById('e803333f-b92a-43ea-b12c-6a312d3d76a7');\n",
              "var x = new MutationObserver(function (mutations, observer) {{\n",
              "        var display = window.getComputedStyle(gd).display;\n",
              "        if (!display || display === 'none') {{\n",
              "            console.log([gd, 'removed!']);\n",
              "            Plotly.purge(gd);\n",
              "            observer.disconnect();\n",
              "        }}\n",
              "}});\n",
              "\n",
              "// Listen for the removal of the full notebook cells\n",
              "var notebookContainer = gd.closest('#notebook-container');\n",
              "if (notebookContainer) {{\n",
              "    x.observe(notebookContainer, {childList: true});\n",
              "}}\n",
              "\n",
              "// Listen for the clearing of the current output cell\n",
              "var outputEl = gd.closest('.output');\n",
              "if (outputEl) {{\n",
              "    x.observe(outputEl, {childList: true});\n",
              "}}\n",
              "\n",
              "                        })                };                            </script>        </div>\n",
              "</body>\n",
              "</html>"
            ]
          },
          "metadata": {}
        }
      ]
    },
    {
      "cell_type": "markdown",
      "source": [
        "Apesar de haver uma média relativamente próxima aparentemente dos gastos, notamos que os valores mais altos de fato são compras feitas por pessoas acima de 40 anos, conforme desconfiavamos "
      ],
      "metadata": {
        "id": "7vs-FQNU2N5h"
      }
    },
    {
      "cell_type": "code",
      "source": [
        "col_names_cleaned = []\n",
        "\n",
        "for col_name in df.columns:\n",
        "    col_names_cleaned.append(col_name.lower().replace(\" \", \"_\"))\n",
        "    \n",
        "df.columns = col_names_cleaned\n",
        "\n",
        "# sanity check\n",
        "df.head()"
      ],
      "metadata": {
        "colab": {
          "base_uri": "https://localhost:8080/",
          "height": 206
        },
        "id": "G9A_99Ou20rp",
        "outputId": "da816989-316a-40c8-c47f-9b0c641c7c6e"
      },
      "execution_count": 33,
      "outputs": [
        {
          "output_type": "execute_result",
          "data": {
            "text/plain": [
              "          id  sex  marital_status  age  education  income  occupation  \\\n",
              "0  100000001    0               0   67          2  124670           1   \n",
              "1  100000002    1               1   22          1  150773           1   \n",
              "2  100000003    0               0   49          1   89210           0   \n",
              "3  100000004    0               0   45          1  171565           1   \n",
              "4  100000005    0               0   53          1  149031           1   \n",
              "\n",
              "   settlement_size  \n",
              "0                2  \n",
              "1                2  \n",
              "2                0  \n",
              "3                1  \n",
              "4                1  "
            ],
            "text/html": [
              "\n",
              "  <div id=\"df-969e33e7-b938-401c-8486-7afa72ab912c\">\n",
              "    <div class=\"colab-df-container\">\n",
              "      <div>\n",
              "<style scoped>\n",
              "    .dataframe tbody tr th:only-of-type {\n",
              "        vertical-align: middle;\n",
              "    }\n",
              "\n",
              "    .dataframe tbody tr th {\n",
              "        vertical-align: top;\n",
              "    }\n",
              "\n",
              "    .dataframe thead th {\n",
              "        text-align: right;\n",
              "    }\n",
              "</style>\n",
              "<table border=\"1\" class=\"dataframe\">\n",
              "  <thead>\n",
              "    <tr style=\"text-align: right;\">\n",
              "      <th></th>\n",
              "      <th>id</th>\n",
              "      <th>sex</th>\n",
              "      <th>marital_status</th>\n",
              "      <th>age</th>\n",
              "      <th>education</th>\n",
              "      <th>income</th>\n",
              "      <th>occupation</th>\n",
              "      <th>settlement_size</th>\n",
              "    </tr>\n",
              "  </thead>\n",
              "  <tbody>\n",
              "    <tr>\n",
              "      <th>0</th>\n",
              "      <td>100000001</td>\n",
              "      <td>0</td>\n",
              "      <td>0</td>\n",
              "      <td>67</td>\n",
              "      <td>2</td>\n",
              "      <td>124670</td>\n",
              "      <td>1</td>\n",
              "      <td>2</td>\n",
              "    </tr>\n",
              "    <tr>\n",
              "      <th>1</th>\n",
              "      <td>100000002</td>\n",
              "      <td>1</td>\n",
              "      <td>1</td>\n",
              "      <td>22</td>\n",
              "      <td>1</td>\n",
              "      <td>150773</td>\n",
              "      <td>1</td>\n",
              "      <td>2</td>\n",
              "    </tr>\n",
              "    <tr>\n",
              "      <th>2</th>\n",
              "      <td>100000003</td>\n",
              "      <td>0</td>\n",
              "      <td>0</td>\n",
              "      <td>49</td>\n",
              "      <td>1</td>\n",
              "      <td>89210</td>\n",
              "      <td>0</td>\n",
              "      <td>0</td>\n",
              "    </tr>\n",
              "    <tr>\n",
              "      <th>3</th>\n",
              "      <td>100000004</td>\n",
              "      <td>0</td>\n",
              "      <td>0</td>\n",
              "      <td>45</td>\n",
              "      <td>1</td>\n",
              "      <td>171565</td>\n",
              "      <td>1</td>\n",
              "      <td>1</td>\n",
              "    </tr>\n",
              "    <tr>\n",
              "      <th>4</th>\n",
              "      <td>100000005</td>\n",
              "      <td>0</td>\n",
              "      <td>0</td>\n",
              "      <td>53</td>\n",
              "      <td>1</td>\n",
              "      <td>149031</td>\n",
              "      <td>1</td>\n",
              "      <td>1</td>\n",
              "    </tr>\n",
              "  </tbody>\n",
              "</table>\n",
              "</div>\n",
              "      <button class=\"colab-df-convert\" onclick=\"convertToInteractive('df-969e33e7-b938-401c-8486-7afa72ab912c')\"\n",
              "              title=\"Convert this dataframe to an interactive table.\"\n",
              "              style=\"display:none;\">\n",
              "        \n",
              "  <svg xmlns=\"http://www.w3.org/2000/svg\" height=\"24px\"viewBox=\"0 0 24 24\"\n",
              "       width=\"24px\">\n",
              "    <path d=\"M0 0h24v24H0V0z\" fill=\"none\"/>\n",
              "    <path d=\"M18.56 5.44l.94 2.06.94-2.06 2.06-.94-2.06-.94-.94-2.06-.94 2.06-2.06.94zm-11 1L8.5 8.5l.94-2.06 2.06-.94-2.06-.94L8.5 2.5l-.94 2.06-2.06.94zm10 10l.94 2.06.94-2.06 2.06-.94-2.06-.94-.94-2.06-.94 2.06-2.06.94z\"/><path d=\"M17.41 7.96l-1.37-1.37c-.4-.4-.92-.59-1.43-.59-.52 0-1.04.2-1.43.59L10.3 9.45l-7.72 7.72c-.78.78-.78 2.05 0 2.83L4 21.41c.39.39.9.59 1.41.59.51 0 1.02-.2 1.41-.59l7.78-7.78 2.81-2.81c.8-.78.8-2.07 0-2.86zM5.41 20L4 18.59l7.72-7.72 1.47 1.35L5.41 20z\"/>\n",
              "  </svg>\n",
              "      </button>\n",
              "      \n",
              "  <style>\n",
              "    .colab-df-container {\n",
              "      display:flex;\n",
              "      flex-wrap:wrap;\n",
              "      gap: 12px;\n",
              "    }\n",
              "\n",
              "    .colab-df-convert {\n",
              "      background-color: #E8F0FE;\n",
              "      border: none;\n",
              "      border-radius: 50%;\n",
              "      cursor: pointer;\n",
              "      display: none;\n",
              "      fill: #1967D2;\n",
              "      height: 32px;\n",
              "      padding: 0 0 0 0;\n",
              "      width: 32px;\n",
              "    }\n",
              "\n",
              "    .colab-df-convert:hover {\n",
              "      background-color: #E2EBFA;\n",
              "      box-shadow: 0px 1px 2px rgba(60, 64, 67, 0.3), 0px 1px 3px 1px rgba(60, 64, 67, 0.15);\n",
              "      fill: #174EA6;\n",
              "    }\n",
              "\n",
              "    [theme=dark] .colab-df-convert {\n",
              "      background-color: #3B4455;\n",
              "      fill: #D2E3FC;\n",
              "    }\n",
              "\n",
              "    [theme=dark] .colab-df-convert:hover {\n",
              "      background-color: #434B5C;\n",
              "      box-shadow: 0px 1px 3px 1px rgba(0, 0, 0, 0.15);\n",
              "      filter: drop-shadow(0px 1px 2px rgba(0, 0, 0, 0.3));\n",
              "      fill: #FFFFFF;\n",
              "    }\n",
              "  </style>\n",
              "\n",
              "      <script>\n",
              "        const buttonEl =\n",
              "          document.querySelector('#df-969e33e7-b938-401c-8486-7afa72ab912c button.colab-df-convert');\n",
              "        buttonEl.style.display =\n",
              "          google.colab.kernel.accessAllowed ? 'block' : 'none';\n",
              "\n",
              "        async function convertToInteractive(key) {\n",
              "          const element = document.querySelector('#df-969e33e7-b938-401c-8486-7afa72ab912c');\n",
              "          const dataTable =\n",
              "            await google.colab.kernel.invokeFunction('convertToInteractive',\n",
              "                                                     [key], {});\n",
              "          if (!dataTable) return;\n",
              "\n",
              "          const docLinkHtml = 'Like what you see? Visit the ' +\n",
              "            '<a target=\"_blank\" href=https://colab.research.google.com/notebooks/data_table.ipynb>data table notebook</a>'\n",
              "            + ' to learn more about interactive tables.';\n",
              "          element.innerHTML = '';\n",
              "          dataTable['output_type'] = 'display_data';\n",
              "          await google.colab.output.renderOutput(dataTable, element);\n",
              "          const docLink = document.createElement('div');\n",
              "          docLink.innerHTML = docLinkHtml;\n",
              "          element.appendChild(docLink);\n",
              "        }\n",
              "      </script>\n",
              "    </div>\n",
              "  </div>\n",
              "  "
            ]
          },
          "metadata": {},
          "execution_count": 33
        }
      ]
    },
    {
      "cell_type": "code",
      "source": [
        "#Separando as variáveis em numéricas e categóricas\n",
        "num_cols = [\"age\", \"income\"]"
      ],
      "metadata": {
        "id": "nle5FMsl2grV"
      },
      "execution_count": 30,
      "outputs": []
    },
    {
      "cell_type": "code",
      "source": [
        "cat_cols = [\"sex\", \"marital_status\", \"education\", \"occupation\", \"settlement_size\"]"
      ],
      "metadata": {
        "id": "EhpOkiWB2l1N"
      },
      "execution_count": 31,
      "outputs": []
    },
    {
      "cell_type": "code",
      "source": [
        "#Fazendo a conversão\n",
        "df[cat_cols] = df[cat_cols].astype(str)"
      ],
      "metadata": {
        "id": "c4jY5e9F2qP-"
      },
      "execution_count": 34,
      "outputs": []
    },
    {
      "cell_type": "code",
      "source": [
        "#Vamos eliminar a coluna do ID, afinal ela é só um identificador\n",
        "df.drop(columns=[\"id\"], inplace=True)"
      ],
      "metadata": {
        "id": "-XnnUlAG265Q"
      },
      "execution_count": 35,
      "outputs": []
    },
    {
      "cell_type": "code",
      "source": [
        "#Checando agora a distribuição das variáveis\n",
        "for num_col in num_cols:\n",
        "    fig, axs = plt.subplots()\n",
        "    sns.histplot(df, x=num_col, kde=True)\n",
        "    plt.show()"
      ],
      "metadata": {
        "colab": {
          "base_uri": "https://localhost:8080/",
          "height": 577
        },
        "id": "lJNYoERG3EE6",
        "outputId": "ca85425c-98b5-480e-9553-66168141c4b9"
      },
      "execution_count": 39,
      "outputs": [
        {
          "output_type": "display_data",
          "data": {
            "text/plain": [
              "<Figure size 432x288 with 1 Axes>"
            ],
            "image/png": "[encoded data removed]"
          },
          "metadata": {
            "needs_background": "light"
          }
        },
        {
          "output_type": "display_data",
          "data": {
            "text/plain": [
              "<Figure size 432x288 with 1 Axes>"
            ],
            "image/png": "[encoded data removed]"
          },
          "metadata": {
            "needs_background": "light"
          }
        }
      ]
    },
    {
      "cell_type": "markdown",
      "source": [
        "Os gastos possuem uma distribuição mais normal, enquanto a idade possui maiores discrepâncias na distribuição numérica sendo mais assimétrica"
      ],
      "metadata": {
        "id": "vKZZ5mBx3zxx"
      }
    },
    {
      "cell_type": "markdown",
      "source": [
        "## 4- **Clustering**"
      ],
      "metadata": {
        "id": "36__rcph4MTg"
      }
    },
    {
      "cell_type": "code",
      "source": [
        "# Convertendo novamente para inteiros\n",
        "df[cat_cols] = df[cat_cols].astype(int)"
      ],
      "metadata": {
        "id": "EGWO1PDQ5D4D"
      },
      "execution_count": 40,
      "outputs": []
    },
    {
      "cell_type": "code",
      "source": [
        "# Fazendo a normalização dos dados\n",
        "scaler = MinMaxScaler()\n",
        "col_names = df.columns\n",
        "X = scaler.fit_transform(df)\n",
        "X = pd.DataFrame(data=X, columns=col_names)\n",
        "# Checando\n",
        "X.describe()"
      ],
      "metadata": {
        "colab": {
          "base_uri": "https://localhost:8080/",
          "height": 300
        },
        "id": "4cZq6jNI5K-h",
        "outputId": "3fd87c3b-effe-4354-b444-77b51a95191c"
      },
      "execution_count": 42,
      "outputs": [
        {
          "output_type": "execute_result",
          "data": {
            "text/plain": [
              "             sex  marital_status        age  education     income  occupation  \\\n",
              "count 2000.00000      2000.00000 2000.00000 2000.00000 2000.00000  2000.00000   \n",
              "mean     0.45700         0.49650    0.30878    0.34600    0.31120     0.40525   \n",
              "std      0.49827         0.50011    0.20206    0.19993    0.13932     0.31929   \n",
              "min      0.00000         0.00000    0.00000    0.00000    0.00000     0.00000   \n",
              "25%      0.00000         0.00000    0.15517    0.33333    0.22605     0.00000   \n",
              "50%      0.00000         0.00000    0.25862    0.33333    0.29143     0.50000   \n",
              "75%      1.00000         1.00000    0.41379    0.33333    0.37378     0.50000   \n",
              "max      1.00000         1.00000    1.00000    1.00000    1.00000     1.00000   \n",
              "\n",
              "       settlement_size  \n",
              "count       2000.00000  \n",
              "mean           0.36950  \n",
              "std            0.40627  \n",
              "min            0.00000  \n",
              "25%            0.00000  \n",
              "50%            0.50000  \n",
              "75%            0.50000  \n",
              "max            1.00000  "
            ],
            "text/html": [
              "\n",
              "  <div id=\"df-b19e2abe-e027-438d-81ed-b8ca37bd0296\">\n",
              "    <div class=\"colab-df-container\">\n",
              "      <div>\n",
              "<style scoped>\n",
              "    .dataframe tbody tr th:only-of-type {\n",
              "        vertical-align: middle;\n",
              "    }\n",
              "\n",
              "    .dataframe tbody tr th {\n",
              "        vertical-align: top;\n",
              "    }\n",
              "\n",
              "    .dataframe thead th {\n",
              "        text-align: right;\n",
              "    }\n",
              "</style>\n",
              "<table border=\"1\" class=\"dataframe\">\n",
              "  <thead>\n",
              "    <tr style=\"text-align: right;\">\n",
              "      <th></th>\n",
              "      <th>sex</th>\n",
              "      <th>marital_status</th>\n",
              "      <th>age</th>\n",
              "      <th>education</th>\n",
              "      <th>income</th>\n",
              "      <th>occupation</th>\n",
              "      <th>settlement_size</th>\n",
              "    </tr>\n",
              "  </thead>\n",
              "  <tbody>\n",
              "    <tr>\n",
              "      <th>count</th>\n",
              "      <td>2000.00000</td>\n",
              "      <td>2000.00000</td>\n",
              "      <td>2000.00000</td>\n",
              "      <td>2000.00000</td>\n",
              "      <td>2000.00000</td>\n",
              "      <td>2000.00000</td>\n",
              "      <td>2000.00000</td>\n",
              "    </tr>\n",
              "    <tr>\n",
              "      <th>mean</th>\n",
              "      <td>0.45700</td>\n",
              "      <td>0.49650</td>\n",
              "      <td>0.30878</td>\n",
              "      <td>0.34600</td>\n",
              "      <td>0.31120</td>\n",
              "      <td>0.40525</td>\n",
              "      <td>0.36950</td>\n",
              "    </tr>\n",
              "    <tr>\n",
              "      <th>std</th>\n",
              "      <td>0.49827</td>\n",
              "      <td>0.50011</td>\n",
              "      <td>0.20206</td>\n",
              "      <td>0.19993</td>\n",
              "      <td>0.13932</td>\n",
              "      <td>0.31929</td>\n",
              "      <td>0.40627</td>\n",
              "    </tr>\n",
              "    <tr>\n",
              "      <th>min</th>\n",
              "      <td>0.00000</td>\n",
              "      <td>0.00000</td>\n",
              "      <td>0.00000</td>\n",
              "      <td>0.00000</td>\n",
              "      <td>0.00000</td>\n",
              "      <td>0.00000</td>\n",
              "      <td>0.00000</td>\n",
              "    </tr>\n",
              "    <tr>\n",
              "      <th>25%</th>\n",
              "      <td>0.00000</td>\n",
              "      <td>0.00000</td>\n",
              "      <td>0.15517</td>\n",
              "      <td>0.33333</td>\n",
              "      <td>0.22605</td>\n",
              "      <td>0.00000</td>\n",
              "      <td>0.00000</td>\n",
              "    </tr>\n",
              "    <tr>\n",
              "      <th>50%</th>\n",
              "      <td>0.00000</td>\n",
              "      <td>0.00000</td>\n",
              "      <td>0.25862</td>\n",
              "      <td>0.33333</td>\n",
              "      <td>0.29143</td>\n",
              "      <td>0.50000</td>\n",
              "      <td>0.50000</td>\n",
              "    </tr>\n",
              "    <tr>\n",
              "      <th>75%</th>\n",
              "      <td>1.00000</td>\n",
              "      <td>1.00000</td>\n",
              "      <td>0.41379</td>\n",
              "      <td>0.33333</td>\n",
              "      <td>0.37378</td>\n",
              "      <td>0.50000</td>\n",
              "      <td>0.50000</td>\n",
              "    </tr>\n",
              "    <tr>\n",
              "      <th>max</th>\n",
              "      <td>1.00000</td>\n",
              "      <td>1.00000</td>\n",
              "      <td>1.00000</td>\n",
              "      <td>1.00000</td>\n",
              "      <td>1.00000</td>\n",
              "      <td>1.00000</td>\n",
              "      <td>1.00000</td>\n",
              "    </tr>\n",
              "  </tbody>\n",
              "</table>\n",
              "</div>\n",
              "      <button class=\"colab-df-convert\" onclick=\"convertToInteractive('df-b19e2abe-e027-438d-81ed-b8ca37bd0296')\"\n",
              "              title=\"Convert this dataframe to an interactive table.\"\n",
              "              style=\"display:none;\">\n",
              "        \n",
              "  <svg xmlns=\"http://www.w3.org/2000/svg\" height=\"24px\"viewBox=\"0 0 24 24\"\n",
              "       width=\"24px\">\n",
              "    <path d=\"M0 0h24v24H0V0z\" fill=\"none\"/>\n",
              "    <path d=\"M18.56 5.44l.94 2.06.94-2.06 2.06-.94-2.06-.94-.94-2.06-.94 2.06-2.06.94zm-11 1L8.5 8.5l.94-2.06 2.06-.94-2.06-.94L8.5 2.5l-.94 2.06-2.06.94zm10 10l.94 2.06.94-2.06 2.06-.94-2.06-.94-.94-2.06-.94 2.06-2.06.94z\"/><path d=\"M17.41 7.96l-1.37-1.37c-.4-.4-.92-.59-1.43-.59-.52 0-1.04.2-1.43.59L10.3 9.45l-7.72 7.72c-.78.78-.78 2.05 0 2.83L4 21.41c.39.39.9.59 1.41.59.51 0 1.02-.2 1.41-.59l7.78-7.78 2.81-2.81c.8-.78.8-2.07 0-2.86zM5.41 20L4 18.59l7.72-7.72 1.47 1.35L5.41 20z\"/>\n",
              "  </svg>\n",
              "      </button>\n",
              "      \n",
              "  <style>\n",
              "    .colab-df-container {\n",
              "      display:flex;\n",
              "      flex-wrap:wrap;\n",
              "      gap: 12px;\n",
              "    }\n",
              "\n",
              "    .colab-df-convert {\n",
              "      background-color: #E8F0FE;\n",
              "      border: none;\n",
              "      border-radius: 50%;\n",
              "      cursor: pointer;\n",
              "      display: none;\n",
              "      fill: #1967D2;\n",
              "      height: 32px;\n",
              "      padding: 0 0 0 0;\n",
              "      width: 32px;\n",
              "    }\n",
              "\n",
              "    .colab-df-convert:hover {\n",
              "      background-color: #E2EBFA;\n",
              "      box-shadow: 0px 1px 2px rgba(60, 64, 67, 0.3), 0px 1px 3px 1px rgba(60, 64, 67, 0.15);\n",
              "      fill: #174EA6;\n",
              "    }\n",
              "\n",
              "    [theme=dark] .colab-df-convert {\n",
              "      background-color: #3B4455;\n",
              "      fill: #D2E3FC;\n",
              "    }\n",
              "\n",
              "    [theme=dark] .colab-df-convert:hover {\n",
              "      background-color: #434B5C;\n",
              "      box-shadow: 0px 1px 3px 1px rgba(0, 0, 0, 0.15);\n",
              "      filter: drop-shadow(0px 1px 2px rgba(0, 0, 0, 0.3));\n",
              "      fill: #FFFFFF;\n",
              "    }\n",
              "  </style>\n",
              "\n",
              "      <script>\n",
              "        const buttonEl =\n",
              "          document.querySelector('#df-b19e2abe-e027-438d-81ed-b8ca37bd0296 button.colab-df-convert');\n",
              "        buttonEl.style.display =\n",
              "          google.colab.kernel.accessAllowed ? 'block' : 'none';\n",
              "\n",
              "        async function convertToInteractive(key) {\n",
              "          const element = document.querySelector('#df-b19e2abe-e027-438d-81ed-b8ca37bd0296');\n",
              "          const dataTable =\n",
              "            await google.colab.kernel.invokeFunction('convertToInteractive',\n",
              "                                                     [key], {});\n",
              "          if (!dataTable) return;\n",
              "\n",
              "          const docLinkHtml = 'Like what you see? Visit the ' +\n",
              "            '<a target=\"_blank\" href=https://colab.research.google.com/notebooks/data_table.ipynb>data table notebook</a>'\n",
              "            + ' to learn more about interactive tables.';\n",
              "          element.innerHTML = '';\n",
              "          dataTable['output_type'] = 'display_data';\n",
              "          await google.colab.output.renderOutput(dataTable, element);\n",
              "          const docLink = document.createElement('div');\n",
              "          docLink.innerHTML = docLinkHtml;\n",
              "          element.appendChild(docLink);\n",
              "        }\n",
              "      </script>\n",
              "    </div>\n",
              "  </div>\n",
              "  "
            ]
          },
          "metadata": {},
          "execution_count": 42
        }
      ]
    },
    {
      "cell_type": "code",
      "source": [
        "#Analisando se a técnica do mini Batch do KMeans nos traz mais velocidade no processamento dos dados\n",
        "%%time\n",
        "kmeans = MiniBatchKMeans(n_clusters=4)\n",
        "_ = kmeans.fit_predict(X)"
      ],
      "metadata": {
        "colab": {
          "base_uri": "https://localhost:8080/"
        },
        "id": "c4ASHXEY9mmM",
        "outputId": "449f5653-d517-4703-f7c0-c0106044feac"
      },
      "execution_count": 44,
      "outputs": [
        {
          "output_type": "stream",
          "name": "stdout",
          "text": [
            "CPU times: user 191 ms, sys: 73.3 ms, total: 264 ms\n",
            "Wall time: 427 ms\n"
          ]
        }
      ]
    },
    {
      "cell_type": "code",
      "source": [
        "%%time\n",
        "kmeans = KMeans(n_clusters=4)\n",
        "_ = kmeans.fit_predict(X)"
      ],
      "metadata": {
        "colab": {
          "base_uri": "https://localhost:8080/"
        },
        "id": "j5a3KVcv97V_",
        "outputId": "1f1f5d3c-2300-409e-aad2-bbcbb1556c35"
      },
      "execution_count": 45,
      "outputs": [
        {
          "output_type": "stream",
          "name": "stdout",
          "text": [
            "CPU times: user 223 ms, sys: 139 ms, total: 362 ms\n",
            "Wall time: 193 ms\n"
          ]
        }
      ]
    },
    {
      "cell_type": "markdown",
      "source": [
        "Diferença praticamente irrelevante, muito provavelmente por termos um dataset com poucas dimensões"
      ],
      "metadata": {
        "id": "wPQtQJ4b-B3I"
      }
    },
    {
      "cell_type": "code",
      "source": [
        "#Fazendo um range para procurarmos nosso K ideal\n",
        "n_clusters = range(1, 10)\n",
        "\n",
        "inertia = []\n",
        "\n",
        "for n in n_clusters:\n",
        "    kmeans = KMeans(n_clusters=n)\n",
        "    _ = kmeans.fit_predict(X)\n",
        "    inertia.append(kmeans.inertia_)"
      ],
      "metadata": {
        "id": "5gIGf2xR-Iqv"
      },
      "execution_count": 46,
      "outputs": []
    },
    {
      "cell_type": "code",
      "source": [
        "#Método do cotovelo\n",
        "fig, axs = plt.subplots(figsize=figure_size)\n",
        "sns.lineplot(x=n_clusters, y=inertia)\n",
        "axs.set_xlabel(\"Número de clusters\")\n",
        "axs.set_ylabel(\"Inertia\")\n",
        "axs.set_title(\"Ellbowplot para determinar os  clusters\")\n",
        "plt.show()"
      ],
      "metadata": {
        "colab": {
          "base_uri": "https://localhost:8080/",
          "height": 441
        },
        "id": "nwh8AvCl-TLk",
        "outputId": "cd4ed4ab-98e9-4492-b55b-5892fd1bc65f"
      },
      "execution_count": 47,
      "outputs": [
        {
          "output_type": "display_data",
          "data": {
            "text/plain": [
              "<Figure size 576x432 with 1 Axes>"
            ],
            "image/png": "[encoded data removed]"
          },
          "metadata": {
            "needs_background": "light"
          }
        }
      ]
    },
    {
      "cell_type": "code",
      "source": [
        "#Reduzindo dataset\n",
        "#principal=PCA(n_components=2)\n",
        "#principal.fit(X)\n",
        "#df_new=principal.transform(X)"
      ],
      "metadata": {
        "id": "vsXtgDLrCYj8"
      },
      "execution_count": 88,
      "outputs": []
    },
    {
      "cell_type": "code",
      "source": [
        "#Treinando KMeans para K=6\n",
        "%%time\n",
        "kmeans = KMeans(n_clusters=6)\n",
        "_ = kmeans.fit_predict(X)\n"
      ],
      "metadata": {
        "colab": {
          "base_uri": "https://localhost:8080/"
        },
        "id": "3AQBsyQQ-j_i",
        "outputId": "f213e023-80ee-4f37-e926-5b63f67da86b"
      },
      "execution_count": 94,
      "outputs": [
        {
          "output_type": "stream",
          "name": "stdout",
          "text": [
            "CPU times: user 432 ms, sys: 148 ms, total: 581 ms\n",
            "Wall time: 565 ms\n"
          ]
        }
      ]
    },
    {
      "cell_type": "code",
      "source": [
        "%%time\n",
        "reducer = umap.UMAP(n_components=2)\n",
        "embedding = reducer.fit_transform(X)"
      ],
      "metadata": {
        "colab": {
          "base_uri": "https://localhost:8080/"
        },
        "id": "G4uqC_fnGF55",
        "outputId": "ef615e49-f943-4652-8216-f508a10d591f"
      },
      "execution_count": 95,
      "outputs": [
        {
          "output_type": "stream",
          "name": "stdout",
          "text": [
            "CPU times: user 21.8 s, sys: 150 ms, total: 22 s\n",
            "Wall time: 21.5 s\n"
          ]
        }
      ]
    },
    {
      "cell_type": "code",
      "source": [
        "#Após reduzimos a dimensionalidade vamos definir os novos eixos\n",
        "embedding = pd.DataFrame(embedding, columns=[\"comp_1\", \"comp_2\"])\n"
      ],
      "metadata": {
        "id": "lMNxWqdWHPjd"
      },
      "execution_count": 96,
      "outputs": []
    },
    {
      "cell_type": "code",
      "source": [
        "#Treinando KMeans novamente mas coma  redução da dimensionalidade\n",
        "%%time\n",
        "kmeans = KMeans(n_clusters=6)\n",
        "_ = kmeans.fit_predict(embedding)"
      ],
      "metadata": {
        "colab": {
          "base_uri": "https://localhost:8080/"
        },
        "id": "0hzImPPUHZmI",
        "outputId": "f0874684-4584-4514-f41b-de4f932b8c17"
      },
      "execution_count": 97,
      "outputs": [
        {
          "output_type": "stream",
          "name": "stdout",
          "text": [
            "CPU times: user 126 ms, sys: 1.2 ms, total: 127 ms\n",
            "Wall time: 73.7 ms\n"
          ]
        }
      ]
    },
    {
      "cell_type": "code",
      "source": [
        "embedding[\"cluster\"] = kmeans.labels_\n"
      ],
      "metadata": {
        "id": "jAiVoXvkHklc"
      },
      "execution_count": 98,
      "outputs": []
    },
    {
      "cell_type": "code",
      "source": [
        "#Plotando os clusters\n",
        "fig, axs = plt.subplots(figsize=(12,9))\n",
        "sns.scatterplot(data=embedding, x=\"comp_1\", y=\"comp_2\", hue=\"cluster\", palette=\"tab10\")\n",
        "axs.set_xlabel(\"Component 1\")\n",
        "axs.set_ylabel(\"Component 2\")\n",
        "axs.set_title(\"Customer clusters based on UMAP + KMeans\")\n",
        "plt.show()"
      ],
      "metadata": {
        "colab": {
          "base_uri": "https://localhost:8080/",
          "height": 657
        },
        "id": "VLOZrykkHo0g",
        "outputId": "061243d6-e977-4cef-bc87-f13c5e05c572"
      },
      "execution_count": 99,
      "outputs": [
        {
          "output_type": "display_data",
          "data": {
            "text/plain": [
              "<Figure size 864x648 with 1 Axes>"
            ],
            "image/png": "[encoded data removed]"
          },
          "metadata": {
            "needs_background": "light"
          }
        }
      ]
    },
    {
      "cell_type": "markdown",
      "source": [
        "## **5- Analisando os clusters e conclusões**"
      ],
      "metadata": {
        "id": "aO4q_rsAHvmx"
      }
    },
    {
      "cell_type": "code",
      "source": [
        "df[\"cluster\"] = kmeans.labels_"
      ],
      "metadata": {
        "id": "CO67XNwxIEWf"
      },
      "execution_count": 100,
      "outputs": []
    },
    {
      "cell_type": "code",
      "source": [
        "#Observando\n",
        "df.head()"
      ],
      "metadata": {
        "colab": {
          "base_uri": "https://localhost:8080/",
          "height": 206
        },
        "id": "mp3cqyTGIIoJ",
        "outputId": "cf3bdd3e-8198-473c-f6a2-348c5df16e6c"
      },
      "execution_count": 101,
      "outputs": [
        {
          "output_type": "execute_result",
          "data": {
            "text/plain": [
              "   sex  marital_status  age  education  income  occupation  settlement_size  \\\n",
              "0    0               0   67          2  124670           1                2   \n",
              "1    1               1   22          1  150773           1                2   \n",
              "2    0               0   49          1   89210           0                0   \n",
              "3    0               0   45          1  171565           1                1   \n",
              "4    0               0   53          1  149031           1                1   \n",
              "\n",
              "   cluster  \n",
              "0        0  \n",
              "1        1  \n",
              "2        3  \n",
              "3        0  \n",
              "4        0  "
            ],
            "text/html": [
              "\n",
              "  <div id=\"df-9f821e3c-a256-414f-a036-668b5fd1b117\">\n",
              "    <div class=\"colab-df-container\">\n",
              "      <div>\n",
              "<style scoped>\n",
              "    .dataframe tbody tr th:only-of-type {\n",
              "        vertical-align: middle;\n",
              "    }\n",
              "\n",
              "    .dataframe tbody tr th {\n",
              "        vertical-align: top;\n",
              "    }\n",
              "\n",
              "    .dataframe thead th {\n",
              "        text-align: right;\n",
              "    }\n",
              "</style>\n",
              "<table border=\"1\" class=\"dataframe\">\n",
              "  <thead>\n",
              "    <tr style=\"text-align: right;\">\n",
              "      <th></th>\n",
              "      <th>sex</th>\n",
              "      <th>marital_status</th>\n",
              "      <th>age</th>\n",
              "      <th>education</th>\n",
              "      <th>income</th>\n",
              "      <th>occupation</th>\n",
              "      <th>settlement_size</th>\n",
              "      <th>cluster</th>\n",
              "    </tr>\n",
              "  </thead>\n",
              "  <tbody>\n",
              "    <tr>\n",
              "      <th>0</th>\n",
              "      <td>0</td>\n",
              "      <td>0</td>\n",
              "      <td>67</td>\n",
              "      <td>2</td>\n",
              "      <td>124670</td>\n",
              "      <td>1</td>\n",
              "      <td>2</td>\n",
              "      <td>0</td>\n",
              "    </tr>\n",
              "    <tr>\n",
              "      <th>1</th>\n",
              "      <td>1</td>\n",
              "      <td>1</td>\n",
              "      <td>22</td>\n",
              "      <td>1</td>\n",
              "      <td>150773</td>\n",
              "      <td>1</td>\n",
              "      <td>2</td>\n",
              "      <td>1</td>\n",
              "    </tr>\n",
              "    <tr>\n",
              "      <th>2</th>\n",
              "      <td>0</td>\n",
              "      <td>0</td>\n",
              "      <td>49</td>\n",
              "      <td>1</td>\n",
              "      <td>89210</td>\n",
              "      <td>0</td>\n",
              "      <td>0</td>\n",
              "      <td>3</td>\n",
              "    </tr>\n",
              "    <tr>\n",
              "      <th>3</th>\n",
              "      <td>0</td>\n",
              "      <td>0</td>\n",
              "      <td>45</td>\n",
              "      <td>1</td>\n",
              "      <td>171565</td>\n",
              "      <td>1</td>\n",
              "      <td>1</td>\n",
              "      <td>0</td>\n",
              "    </tr>\n",
              "    <tr>\n",
              "      <th>4</th>\n",
              "      <td>0</td>\n",
              "      <td>0</td>\n",
              "      <td>53</td>\n",
              "      <td>1</td>\n",
              "      <td>149031</td>\n",
              "      <td>1</td>\n",
              "      <td>1</td>\n",
              "      <td>0</td>\n",
              "    </tr>\n",
              "  </tbody>\n",
              "</table>\n",
              "</div>\n",
              "      <button class=\"colab-df-convert\" onclick=\"convertToInteractive('df-9f821e3c-a256-414f-a036-668b5fd1b117')\"\n",
              "              title=\"Convert this dataframe to an interactive table.\"\n",
              "              style=\"display:none;\">\n",
              "        \n",
              "  <svg xmlns=\"http://www.w3.org/2000/svg\" height=\"24px\"viewBox=\"0 0 24 24\"\n",
              "       width=\"24px\">\n",
              "    <path d=\"M0 0h24v24H0V0z\" fill=\"none\"/>\n",
              "    <path d=\"M18.56 5.44l.94 2.06.94-2.06 2.06-.94-2.06-.94-.94-2.06-.94 2.06-2.06.94zm-11 1L8.5 8.5l.94-2.06 2.06-.94-2.06-.94L8.5 2.5l-.94 2.06-2.06.94zm10 10l.94 2.06.94-2.06 2.06-.94-2.06-.94-.94-2.06-.94 2.06-2.06.94z\"/><path d=\"M17.41 7.96l-1.37-1.37c-.4-.4-.92-.59-1.43-.59-.52 0-1.04.2-1.43.59L10.3 9.45l-7.72 7.72c-.78.78-.78 2.05 0 2.83L4 21.41c.39.39.9.59 1.41.59.51 0 1.02-.2 1.41-.59l7.78-7.78 2.81-2.81c.8-.78.8-2.07 0-2.86zM5.41 20L4 18.59l7.72-7.72 1.47 1.35L5.41 20z\"/>\n",
              "  </svg>\n",
              "      </button>\n",
              "      \n",
              "  <style>\n",
              "    .colab-df-container {\n",
              "      display:flex;\n",
              "      flex-wrap:wrap;\n",
              "      gap: 12px;\n",
              "    }\n",
              "\n",
              "    .colab-df-convert {\n",
              "      background-color: #E8F0FE;\n",
              "      border: none;\n",
              "      border-radius: 50%;\n",
              "      cursor: pointer;\n",
              "      display: none;\n",
              "      fill: #1967D2;\n",
              "      height: 32px;\n",
              "      padding: 0 0 0 0;\n",
              "      width: 32px;\n",
              "    }\n",
              "\n",
              "    .colab-df-convert:hover {\n",
              "      background-color: #E2EBFA;\n",
              "      box-shadow: 0px 1px 2px rgba(60, 64, 67, 0.3), 0px 1px 3px 1px rgba(60, 64, 67, 0.15);\n",
              "      fill: #174EA6;\n",
              "    }\n",
              "\n",
              "    [theme=dark] .colab-df-convert {\n",
              "      background-color: #3B4455;\n",
              "      fill: #D2E3FC;\n",
              "    }\n",
              "\n",
              "    [theme=dark] .colab-df-convert:hover {\n",
              "      background-color: #434B5C;\n",
              "      box-shadow: 0px 1px 3px 1px rgba(0, 0, 0, 0.15);\n",
              "      filter: drop-shadow(0px 1px 2px rgba(0, 0, 0, 0.3));\n",
              "      fill: #FFFFFF;\n",
              "    }\n",
              "  </style>\n",
              "\n",
              "      <script>\n",
              "        const buttonEl =\n",
              "          document.querySelector('#df-9f821e3c-a256-414f-a036-668b5fd1b117 button.colab-df-convert');\n",
              "        buttonEl.style.display =\n",
              "          google.colab.kernel.accessAllowed ? 'block' : 'none';\n",
              "\n",
              "        async function convertToInteractive(key) {\n",
              "          const element = document.querySelector('#df-9f821e3c-a256-414f-a036-668b5fd1b117');\n",
              "          const dataTable =\n",
              "            await google.colab.kernel.invokeFunction('convertToInteractive',\n",
              "                                                     [key], {});\n",
              "          if (!dataTable) return;\n",
              "\n",
              "          const docLinkHtml = 'Like what you see? Visit the ' +\n",
              "            '<a target=\"_blank\" href=https://colab.research.google.com/notebooks/data_table.ipynb>data table notebook</a>'\n",
              "            + ' to learn more about interactive tables.';\n",
              "          element.innerHTML = '';\n",
              "          dataTable['output_type'] = 'display_data';\n",
              "          await google.colab.output.renderOutput(dataTable, element);\n",
              "          const docLink = document.createElement('div');\n",
              "          docLink.innerHTML = docLinkHtml;\n",
              "          element.appendChild(docLink);\n",
              "        }\n",
              "      </script>\n",
              "    </div>\n",
              "  </div>\n",
              "  "
            ]
          },
          "metadata": {},
          "execution_count": 101
        }
      ]
    },
    {
      "cell_type": "code",
      "source": [
        "#Convertendo categóricas para observarmos alguns comportamentos\n",
        "cat_cols.append(\"cluster\")\n",
        "df[cat_cols] = df[cat_cols].astype(str)"
      ],
      "metadata": {
        "id": "rz-loX-DITWL"
      },
      "execution_count": 102,
      "outputs": []
    },
    {
      "cell_type": "code",
      "source": [
        "fig, axs = plt.subplots(figsize=figure_size)\n",
        "sns.countplot(data=df, x=\"cluster\", hue=\"sex\", order=[\"0\", \"1\", \"2\", \"3\", \"4\", \"5\"])\n",
        "axs.set_title(\"Contagem dos clusters em relação ao gênero\")\n",
        "plt.show()"
      ],
      "metadata": {
        "colab": {
          "base_uri": "https://localhost:8080/",
          "height": 441
        },
        "id": "Fm6ypmdzId-0",
        "outputId": "a8442f0e-676b-4446-c892-68b62067c976"
      },
      "execution_count": 104,
      "outputs": [
        {
          "output_type": "display_data",
          "data": {
            "text/plain": [
              "<Figure size 576x432 with 1 Axes>"
            ],
            "image/png": "[encoded data removed]"
          },
          "metadata": {
            "needs_background": "light"
          }
        }
      ]
    },
    {
      "cell_type": "code",
      "source": [
        "fig, axs = plt.subplots(figsize=figure_size)\n",
        "sns.countplot(data=df, x=\"cluster\", hue=\"marital_status\", order=[\"0\", \"1\", \"2\", \"3\", \"4\", \"5\"])\n",
        "axs.set_title(\"Estado civil\")\n",
        "plt.show()"
      ],
      "metadata": {
        "colab": {
          "base_uri": "https://localhost:8080/",
          "height": 441
        },
        "id": "HsHz3jxpIoAF",
        "outputId": "02087f78-2d25-4bef-b6bb-cb232225986b"
      },
      "execution_count": 105,
      "outputs": [
        {
          "output_type": "display_data",
          "data": {
            "text/plain": [
              "<Figure size 576x432 with 1 Axes>"
            ],
            "image/png": "[encoded data removed]"
          },
          "metadata": {
            "needs_background": "light"
          }
        }
      ]
    },
    {
      "cell_type": "code",
      "source": [
        "fig, axs = plt.subplots(figsize=figure_size)\n",
        "sns.countplot(data=df, x=\"cluster\", hue=\"education\", order=[\"0\", \"1\", \"2\", \"3\", \"4\", \"5\"], hue_order=[\"0\", \"1\", \"2\", \"3\"])\n",
        "axs.set_title(\"Educação\")\n",
        "plt.show()"
      ],
      "metadata": {
        "colab": {
          "base_uri": "https://localhost:8080/",
          "height": 441
        },
        "id": "iUVkQwrKIwSj",
        "outputId": "ea1b910e-4f56-4b94-fadb-05572a3124d1"
      },
      "execution_count": 106,
      "outputs": [
        {
          "output_type": "display_data",
          "data": {
            "text/plain": [
              "<Figure size 576x432 with 1 Axes>"
            ],
            "image/png": "[encoded data removed]"
          },
          "metadata": {
            "needs_background": "light"
          }
        }
      ]
    },
    {
      "cell_type": "code",
      "source": [
        "#Distribuição final dos clusters\n",
        "fig, axs = plt.subplots(figsize=figure_size)\n",
        "sns.boxenplot(data=df, x=\"cluster\", y=\"income\", order=[\"0\", \"1\", \"2\", \"3\", \"4\", \"5\"])\n",
        "plt.hlines(y=df.income.median(), xmin=0, xmax=5, colors=\"w\", linestyles=\"dashed\")\n",
        "axs.set_title(\"Distribuição dos clusters\")\n",
        "plt.show()"
      ],
      "metadata": {
        "colab": {
          "base_uri": "https://localhost:8080/",
          "height": 441
        },
        "id": "zAhbS1Z1I4iM",
        "outputId": "4b1b162b-d4b9-4ad3-fedd-a155d73186af"
      },
      "execution_count": 108,
      "outputs": [
        {
          "output_type": "display_data",
          "data": {
            "text/plain": [
              "<Figure size 576x432 with 1 Axes>"
            ],
            "image/png": "[encoded data removed]"
          },
          "metadata": {
            "needs_background": "light"
          }
        }
      ]
    },
    {
      "cell_type": "markdown",
      "source": [
        "**CONCLUSÕES**\n",
        "\n",
        "No cluster 0 há uma exclusividade masculina, de pessoas solteiras e uma tendência a uma escolaridade mais baixa\n",
        "\n",
        "No cluster 1 há uma exclusividade feminina, variação entre estado civil e exclusividade de escolaridade para high school, além de serem de cidades pequenas\n",
        "\n",
        "No cluster 2 também há exclusividade feminina, de pessoas em relacionamentos e uma escolaridade mais elevada em comparação a outros clusters, além de pertencerem a cidades médias e grandes\n",
        "\n",
        "no cluster 3 há uma variação entre os sexos, mas uma exclusividade de solteiros e tendência a educação menos elevada e novamente de cidades pequenas\n",
        "\n",
        "No cluster 4 há uma exclusividade masculina e de solteiros, com educação baixa e de pequenas ou grandes cidades, ou seja, dos extremos populacionais\n",
        "\n",
        "No cluster 5 temos um misto de sexos, exclusividade de pessoas em relacionamentos e tendência de educação baixa\n",
        "\n",
        "Aqui notamos que temos clusters/grupos bem definidos, o que gera muotos insights para nossas lojas. Por exemplo: Em uma data comemorativa como dia dos namorados faz mais sentido priorizar produtos mais caros para o cluster 2, que possui pessoas em relacionamento e de condições financeiras mais elevadas tendo-se a correlação social com a escolaridade\n",
        "\n",
        "\n"
      ],
      "metadata": {
        "id": "xSt8y9r1I_-P"
      }
    }
  ]
}